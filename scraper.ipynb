{
 "cells": [
  {
   "cell_type": "code",
   "execution_count": 3,
   "metadata": {},
   "outputs": [],
   "source": [
    "import requests\n",
    "from bs4 import BeautifulSoup\n",
    "from selenium import webdriver\n",
    "import dont_add"
   ]
  },
  {
   "cell_type": "code",
   "execution_count": 4,
   "metadata": {},
   "outputs": [],
   "source": [
    "# driver = webdriver.Chrome('chromedriver.exe')"
   ]
  },
  {
   "cell_type": "code",
   "execution_count": 5,
   "metadata": {},
   "outputs": [],
   "source": [
    "# urls = ['https://basicswithbabish.co/episodes',\n",
    "# 'https://www.bingingwithbabish.com/recipes',\n",
    "# 'https://www.foodnetwork.com/recipes/recipes-a-z',\n",
    "# 'https://www.bonappetit.com/recipes']"
   ]
  },
  {
   "cell_type": "code",
   "execution_count": 6,
   "metadata": {},
   "outputs": [],
   "source": [
    "# starting with binging"
   ]
  },
  {
   "cell_type": "code",
   "execution_count": 7,
   "metadata": {},
   "outputs": [],
   "source": [
    "# url = 'https://www.bingingwithbabish.com/recipes'\n",
    "# response = requests.get(url)\n",
    "# soup = BeautifulSoup(response.text, 'html.parser')"
   ]
  },
  {
   "cell_type": "code",
   "execution_count": 8,
   "metadata": {},
   "outputs": [],
   "source": [
    "url = 'https://www.bingingwithbabish.com/recipes'\n",
    "driver = webdriver.Chrome('chromedriver.exe')\n",
    "driver.get(url)\n",
    "soup = BeautifulSoup(driver.page_source, 'html.parser')\n",
    "driver.quit()"
   ]
  },
  {
   "cell_type": "code",
   "execution_count": 11,
   "metadata": {},
   "outputs": [],
   "source": [
    "recipe_url_raw_info_soup = soup.find('div', class_='site-wrapper').find('div', class_='recipe-row').find_all('div', class_='recipe-col')"
   ]
  },
  {
   "cell_type": "code",
   "execution_count": 13,
   "metadata": {},
   "outputs": [],
   "source": [
    "recipe_urls = []\n",
    "recipe_titles = []\n",
    "\n",
    "\n",
    "for recipe in recipe_url_raw_info_soup:\n",
    "    recipe_url = recipe.a['href']\n",
    "    recipe_title_raw = recipe.find('div', class_='recipe-title').text\n",
    "    recipe_title = recipe_title_raw.replace('\\n', '')\n",
    "    recipe_urls.append(recipe_url)\n",
    "    recipe_titles.append(recipe_title)"
   ]
  },
  {
   "cell_type": "code",
   "execution_count": null,
   "metadata": {},
   "outputs": [],
   "source": [
    "# for title in recipe_titles:\n",
    "#     print(title)"
   ]
  },
  {
   "cell_type": "code",
   "execution_count": null,
   "metadata": {},
   "outputs": [],
   "source": [
    "# for href in recipe_urls:\n",
    "#     print(href)"
   ]
  },
  {
   "cell_type": "code",
   "execution_count": 14,
   "metadata": {},
   "outputs": [],
   "source": [
    "test_recipie_end_url = recipe_urls[1]"
   ]
  },
  {
   "cell_type": "code",
   "execution_count": 15,
   "metadata": {},
   "outputs": [
    {
     "data": {
      "text/plain": [
       "'/recipes/dexter-key-lime-pie'"
      ]
     },
     "execution_count": 15,
     "metadata": {},
     "output_type": "execute_result"
    }
   ],
   "source": [
    "test_recipie_end_url"
   ]
  },
  {
   "cell_type": "code",
   "execution_count": 32,
   "metadata": {},
   "outputs": [],
   "source": [
    "url_base = 'https://www.bingingwithbabish.com'\n",
    "test_recipie_end_url = recipe_urls[1]\n",
    "test_url = url_base + test_recipie_end_url\n",
    "driver = webdriver.Chrome('chromedriver.exe')\n",
    "driver.get(test_url)\n",
    "test_soup = BeautifulSoup(driver.page_source, 'html.parser')\n",
    "driver.quit()"
   ]
  },
  {
   "cell_type": "code",
   "execution_count": 33,
   "metadata": {},
   "outputs": [
    {
     "data": {
      "text/plain": [
       "'https://www.bingingwithbabish.com/recipes/dexter-key-lime-pie'"
      ]
     },
     "execution_count": 33,
     "metadata": {},
     "output_type": "execute_result"
    }
   ],
   "source": [
    "test_url"
   ]
  },
  {
   "cell_type": "code",
   "execution_count": null,
   "metadata": {},
   "outputs": [],
   "source": [
    "# test_soup.find('', class_='')"
   ]
  },
  {
   "cell_type": "code",
   "execution_count": 37,
   "metadata": {},
   "outputs": [],
   "source": [
    "# test_soup.find('div', class_='site-wrapper').find('div', class_='entry-content')"
   ]
  },
  {
   "cell_type": "code",
   "execution_count": 40,
   "metadata": {},
   "outputs": [],
   "source": [
    "recipe_description = test_soup.find('div', class_='site-wrapper').find('div', class_='entry-content').h2.text"
   ]
  },
  {
   "cell_type": "code",
   "execution_count": 47,
   "metadata": {},
   "outputs": [],
   "source": [
    "ingredents_list_html = test_soup.find('div', class_='site-wrapper').find('div', class_='entry-content').ul.find_all('li')"
   ]
  },
  {
   "cell_type": "code",
   "execution_count": 48,
   "metadata": {},
   "outputs": [],
   "source": [
    "instructions_list_html = test_soup.find('div', class_='site-wrapper').find('div', class_='entry-content').ol.find_all('li')"
   ]
  },
  {
   "cell_type": "code",
   "execution_count": 46,
   "metadata": {},
   "outputs": [
    {
     "data": {
      "text/plain": [
       "[<li><p class=\"\" style=\"white-space:pre-wrap;\">Start by juicing ⅔ cup of key lime juice (15-30 key limes) and set aside. </p></li>,\n",
       " <li><p class=\"\" style=\"white-space:pre-wrap;\">Add 1 ½ pack of graham crackers to a food processor and pulse into a fine graham cracker dust. </p></li>,\n",
       " <li><p class=\"\" style=\"white-space:pre-wrap;\">After pulsed to dust, measure out about 200 grams worth of graham crackers dust. Add in 40 grams of powdered sugar (or regular sugar, just measure out the same amount) and a pinch of kosher salt. Whisk together until thoroughly combined. Make sure to crush any bits of powdered sugar. </p></li>,\n",
       " <li><p class=\"\" style=\"white-space:pre-wrap;\">Add 100 grams of melted unsalted butter and gently mix together using a rubber spatula and fingers combo until the graham crackers crumbs are evenly saturated and keep their shape when pressed together, but still crumbly like wet sand. </p></li>,\n",
       " <li><p class=\"\" style=\"white-space:pre-wrap;\">Dump into an unprepared pie plate and gently press them into all the corners and up the sides of the plate then using a ramekin to make sure everything is round and compacted.  </p></li>,\n",
       " <li><p class=\"\" style=\"white-space:pre-wrap;\">Place the pie crust into a 325°F for 15 minutes before being removed and cooled completely on a wire rack. </p></li>,\n",
       " <li><p class=\"\" style=\"white-space:pre-wrap;\">For the curd, into the bowl of a stand mixer goes 3 egg yolks separated from their whites with the zest of 1 large lime (or 3 key limes). Fix with a wire whisk to the stand mixer and beat the egg yolks for about 3 minutes on high speed.   </p></li>,\n",
       " <li><p class=\"\" style=\"white-space:pre-wrap;\">Add in a 14 oz can of sweetened condensed milk. Beat this together with the egg yolks using a paddle attachment on medium-high speed for about 5 minutes until it is lightly pale and slightly thickened. </p></li>,\n",
       " <li><p class=\"\" style=\"white-space:pre-wrap;\">At this point, slowly add in the ⅔ cup of lime juice while the mixer is running on low and mix until just combined (thickened from the lime juice acid) then give it a couple of folds using a rubber spatula, cover with plastic wrap and let rest at room temperature for 30 minutes. </p></li>,\n",
       " <li><p class=\"\" style=\"white-space:pre-wrap;\">After 30 minutes, pour the filling into the pie crust. Don’t worry if it looks a little low, it will expand in the oven. Give it a little wiggle to make sure it’s evenly dispersed. </p></li>,\n",
       " <li><p class=\"\" style=\"white-space:pre-wrap;\">Place it into a 325°F oven for about 25 minutes until set around the edges and register a temperature of 145°F in the center. </p></li>,\n",
       " <li><p class=\"\" style=\"white-space:pre-wrap;\">Let it cool at room temperature for about 2 hours. After this, cover with plastic wrap and place in the fridge for 4 hours. </p></li>,\n",
       " <li><p class=\"\" style=\"white-space:pre-wrap;\">For the whipped cream, mix together a pint of heavy cream, 2 tablespoons of sugar, and a dash of vanilla extract and beat until stiff peaks form. </p></li>,\n",
       " <li><p class=\"\" style=\"white-space:pre-wrap;\">Dump it into a pastry bag with a fancy tip and begin trying to decorate the fully cooled pie from the fridge. Garnish with slices of key limes and a generous zesting of key lime zest. </p></li>]"
      ]
     },
     "execution_count": 46,
     "metadata": {},
     "output_type": "execute_result"
    }
   ],
   "source": [
    "test_soup.find('div', class_='site-wrapper').find('div', class_='entry-content').ol.find_all('li')"
   ]
  },
  {
   "cell_type": "code",
   "execution_count": 57,
   "metadata": {},
   "outputs": [
    {
     "data": {
      "text/plain": [
       "'1 ½ packs graham crackers'"
      ]
     },
     "execution_count": 57,
     "metadata": {},
     "output_type": "execute_result"
    }
   ],
   "source": [
    "ingredents_list_html[1].text.replace('\\xa0', '')"
   ]
  },
  {
   "cell_type": "code",
   "execution_count": 58,
   "metadata": {},
   "outputs": [],
   "source": [
    "ingredents = []\n",
    "for item in ingredents_list_html:\n",
    "    ingredents.append(item.text.replace('\\xa0', ''))"
   ]
  },
  {
   "cell_type": "code",
   "execution_count": 59,
   "metadata": {},
   "outputs": [
    {
     "name": "stdout",
     "output_type": "stream",
     "text": [
      "⅔ cup key lime juice (15-30 key limes)\n",
      "1 ½ packs graham crackers\n",
      "40 g powdered sugar\n",
      "Kosher salt\n",
      "100 g unsalted butter, melted\n",
      "3 egg yolks\n",
      "1 large lime, zested\n",
      "14 oz can sweetened condensed milk\n",
      "1 pint heavy cream\n",
      "2 Tbsp sugar\n",
      "Vanilla extract\n"
     ]
    }
   ],
   "source": [
    "for x in ingredents:\n",
    "    print(x)"
   ]
  },
  {
   "cell_type": "code",
   "execution_count": 68,
   "metadata": {},
   "outputs": [],
   "source": [
    "steps = []\n",
    "i = 1\n",
    "for step in instructions_list_html:\n",
    "    trimmed = step.text.replace('\\xa0', '')\n",
    "    instruction = f'{i}. {trimmed}'\n",
    "    steps.append(instruction)\n",
    "    i += 1"
   ]
  },
  {
   "cell_type": "code",
   "execution_count": 69,
   "metadata": {},
   "outputs": [
    {
     "name": "stdout",
     "output_type": "stream",
     "text": [
      "1. Start by juicing ⅔ cup of key lime juice (15-30 key limes) and set aside.\n",
      "2. Add 1 ½ pack of graham crackers to a food processor and pulse into a fine graham cracker dust.\n",
      "3. After pulsed to dust, measure out about 200 grams worth of graham crackers dust. Add in 40 grams of powdered sugar (or regular sugar, just measure out the same amount) and a pinch of kosher salt. Whisk together until thoroughly combined. Make sure to crush any bits of powdered sugar.\n",
      "4. Add 100 grams of melted unsalted butter and gently mix together using a rubber spatula and fingers combo until the graham crackers crumbs are evenly saturated and keep their shape when pressed together, but still crumbly like wet sand.\n",
      "5. Dump into an unprepared pie plate and gently press them into all the corners and up the sides of the plate then using a ramekin to make sure everything is round and compacted.\n",
      "6. Place the pie crust into a 325°F for 15 minutes before being removed and cooled completely on a wire rack.\n",
      "7. For the curd, into the bowl of a stand mixer goes 3 egg yolks separated from their whites with the zest of 1 large lime (or 3 key limes). Fix with a wire whisk to the stand mixer and beat the egg yolks for about 3 minutes on high speed.\n",
      "8. Add in a 14 oz can of sweetened condensed milk. Beat this together with the egg yolks using a paddle attachment on medium-high speed for about 5 minutes until it is lightly pale and slightly thickened.\n",
      "9. At this point, slowly add in the ⅔ cup of lime juice while the mixer is running on low and mix until just combined (thickened from the lime juice acid) then give it a couple of folds using a rubber spatula, cover with plastic wrap and let rest at room temperature for 30 minutes.\n",
      "10. After 30 minutes, pour the filling into the pie crust. Don’t worry if it looks a little low, it will expand in the oven. Give it a little wiggle to make sure it’s evenly dispersed.\n",
      "11. Place it into a 325°F oven for about 25 minutes until set around the edges and register a temperature of 145°F in the center.\n",
      "12. Let it cool at room temperature for about 2 hours. After this, cover with plastic wrap and place in the fridge for 4 hours.\n",
      "13. For the whipped cream, mix together a pint of heavy cream, 2 tablespoons of sugar, and a dash of vanilla extract and beat until stiff peaks form.\n",
      "14. Dump it into a pastry bag with a fancy tip and begin trying to decorate the fully cooled pie from the fridge. Garnish with slices of key limes and a generous zesting of key lime zest. \n"
     ]
    }
   ],
   "source": [
    "for x in steps:\n",
    "    print(x)"
   ]
  },
  {
   "cell_type": "code",
   "execution_count": null,
   "metadata": {},
   "outputs": [],
   "source": []
  },
  {
   "cell_type": "code",
   "execution_count": null,
   "metadata": {},
   "outputs": [],
   "source": []
  },
  {
   "cell_type": "code",
   "execution_count": null,
   "metadata": {},
   "outputs": [],
   "source": []
  },
  {
   "cell_type": "code",
   "execution_count": null,
   "metadata": {},
   "outputs": [],
   "source": []
  },
  {
   "cell_type": "code",
   "execution_count": null,
   "metadata": {},
   "outputs": [],
   "source": []
  },
  {
   "cell_type": "code",
   "execution_count": null,
   "metadata": {},
   "outputs": [],
   "source": []
  },
  {
   "cell_type": "code",
   "execution_count": null,
   "metadata": {},
   "outputs": [],
   "source": []
  },
  {
   "cell_type": "code",
   "execution_count": null,
   "metadata": {},
   "outputs": [],
   "source": []
  },
  {
   "cell_type": "code",
   "execution_count": null,
   "metadata": {},
   "outputs": [],
   "source": []
  },
  {
   "cell_type": "code",
   "execution_count": null,
   "metadata": {},
   "outputs": [],
   "source": []
  },
  {
   "cell_type": "code",
   "execution_count": null,
   "metadata": {},
   "outputs": [],
   "source": []
  },
  {
   "cell_type": "code",
   "execution_count": null,
   "metadata": {},
   "outputs": [],
   "source": []
  },
  {
   "cell_type": "code",
   "execution_count": null,
   "metadata": {},
   "outputs": [],
   "source": []
  },
  {
   "cell_type": "code",
   "execution_count": null,
   "metadata": {},
   "outputs": [],
   "source": []
  },
  {
   "cell_type": "code",
   "execution_count": null,
   "metadata": {},
   "outputs": [],
   "source": []
  },
  {
   "cell_type": "code",
   "execution_count": null,
   "metadata": {},
   "outputs": [],
   "source": []
  },
  {
   "cell_type": "code",
   "execution_count": null,
   "metadata": {},
   "outputs": [],
   "source": []
  },
  {
   "cell_type": "code",
   "execution_count": 62,
   "metadata": {},
   "outputs": [],
   "source": [
    "# test_soup"
   ]
  },
  {
   "cell_type": "code",
   "execution_count": 64,
   "metadata": {},
   "outputs": [],
   "source": [
    "# recipie_title_raw = recipie_url_raw_info_soup[0].find('div', class_='recipe-title').text\n",
    "# recipie_title = recipie_title_raw.replace('\\n', '')\n",
    "# print(recipie_title)"
   ]
  },
  {
   "cell_type": "code",
   "execution_count": 63,
   "metadata": {},
   "outputs": [],
   "source": [
    "# recipie_url_raw_info_soup[0]"
   ]
  },
  {
   "cell_type": "code",
   "execution_count": null,
   "metadata": {},
   "outputs": [],
   "source": []
  },
  {
   "cell_type": "code",
   "execution_count": null,
   "metadata": {},
   "outputs": [],
   "source": []
  }
 ],
 "metadata": {
  "kernelspec": {
   "display_name": "Python 3",
   "language": "python",
   "name": "python3"
  },
  "language_info": {
   "codemirror_mode": {
    "name": "ipython",
    "version": 3
   },
   "file_extension": ".py",
   "mimetype": "text/x-python",
   "name": "python",
   "nbconvert_exporter": "python",
   "pygments_lexer": "ipython3",
   "version": "3.7.6"
  }
 },
 "nbformat": 4,
 "nbformat_minor": 4
}
