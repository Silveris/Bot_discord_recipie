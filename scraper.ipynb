{
 "cells": [
  {
   "cell_type": "code",
   "execution_count": 3,
   "metadata": {},
   "outputs": [],
   "source": [
    "import requests\n",
    "from bs4 import BeautifulSoup\n",
    "from selenium import webdriver\n",
    "import dont_add"
   ]
  },
  {
   "cell_type": "code",
   "execution_count": 4,
   "metadata": {},
   "outputs": [],
   "source": [
    "# driver = webdriver.Chrome('chromedriver.exe')"
   ]
  },
  {
   "cell_type": "code",
   "execution_count": 5,
   "metadata": {},
   "outputs": [],
   "source": [
    "# urls = ['https://basicswithbabish.co/episodes',\n",
    "# 'https://www.bingingwithbabish.com/recipes',\n",
    "# 'https://www.foodnetwork.com/recipes/recipes-a-z',\n",
    "# 'https://www.bonappetit.com/recipes']"
   ]
  },
  {
   "cell_type": "code",
   "execution_count": 6,
   "metadata": {},
   "outputs": [],
   "source": [
    "# starting with binging"
   ]
  },
  {
   "cell_type": "code",
   "execution_count": 7,
   "metadata": {},
   "outputs": [],
   "source": [
    "# url = 'https://www.bingingwithbabish.com/recipes'\n",
    "# response = requests.get(url)\n",
    "# soup = BeautifulSoup(response.text, 'html.parser')"
   ]
  },
  {
   "cell_type": "code",
   "execution_count": 8,
   "metadata": {},
   "outputs": [],
   "source": [
    "url = 'https://www.bingingwithbabish.com/recipes'\n",
    "driver = webdriver.Chrome('chromedriver.exe')\n",
    "driver.get(url)\n",
    "soup = BeautifulSoup(driver.page_source, 'html.parser')\n",
    "driver.quit()"
   ]
  },
  {
   "cell_type": "code",
   "execution_count": 11,
   "metadata": {},
   "outputs": [],
   "source": [
    "recipe_url_raw_info_soup = soup.find('div', class_='site-wrapper').find('div', class_='recipe-row').find_all('div', class_='recipe-col')"
   ]
  },
  {
   "cell_type": "code",
   "execution_count": 13,
   "metadata": {},
   "outputs": [],
   "source": [
    "recipe_urls = []\n",
    "recipe_titles = []\n",
    "\n",
    "\n",
    "for recipe in recipe_url_raw_info_soup:\n",
    "    recipe_url = recipe.a['href']\n",
    "    recipe_title_raw = recipe.find('div', class_='recipe-title').text\n",
    "    recipe_title = recipe_title_raw.replace('\\n', '')\n",
    "    recipe_urls.append(recipe_url)\n",
    "    recipe_titles.append(recipe_title)"
   ]
  },
  {
   "cell_type": "code",
   "execution_count": null,
   "metadata": {},
   "outputs": [],
   "source": [
    "# for title in recipe_titles:\n",
    "#     print(title)"
   ]
  },
  {
   "cell_type": "code",
   "execution_count": null,
   "metadata": {},
   "outputs": [],
   "source": [
    "# for href in recipe_urls:\n",
    "#     print(href)"
   ]
  },
  {
   "cell_type": "code",
   "execution_count": 14,
   "metadata": {},
   "outputs": [],
   "source": [
    "test_recipie_end_url = recipe_urls[1]"
   ]
  },
  {
   "cell_type": "code",
   "execution_count": 15,
   "metadata": {},
   "outputs": [
    {
     "data": {
      "text/plain": [
       "'/recipes/dexter-key-lime-pie'"
      ]
     },
     "execution_count": 15,
     "metadata": {},
     "output_type": "execute_result"
    }
   ],
   "source": [
    "test_recipie_end_url"
   ]
  },
  {
   "cell_type": "code",
   "execution_count": 32,
   "metadata": {},
   "outputs": [],
   "source": [
    "url_base = 'https://www.bingingwithbabish.com'\n",
    "test_recipie_end_url = recipe_urls[1]\n",
    "test_url = url_base + test_recipie_end_url\n",
    "driver = webdriver.Chrome('chromedriver.exe')\n",
    "driver.get(test_url)\n",
    "test_soup = BeautifulSoup(driver.page_source, 'html.parser')\n",
    "driver.quit()"
   ]
  },
  {
   "cell_type": "code",
   "execution_count": 33,
   "metadata": {},
   "outputs": [
    {
     "data": {
      "text/plain": [
       "'https://www.bingingwithbabish.com/recipes/dexter-key-lime-pie'"
      ]
     },
     "execution_count": 33,
     "metadata": {},
     "output_type": "execute_result"
    }
   ],
   "source": [
    "test_url"
   ]
  },
  {
   "cell_type": "code",
   "execution_count": null,
   "metadata": {},
   "outputs": [],
   "source": [
    "# test_soup.find('', class_='')"
   ]
  },
  {
   "cell_type": "code",
   "execution_count": 37,
   "metadata": {},
   "outputs": [],
   "source": [
    "# test_soup.find('div', class_='site-wrapper').find('div', class_='entry-content')"
   ]
  },
  {
   "cell_type": "code",
   "execution_count": 40,
   "metadata": {},
   "outputs": [],
   "source": [
    "recipe_description = test_soup.find('div', class_='site-wrapper').find('div', class_='entry-content').h2.text"
   ]
  },
  {
   "cell_type": "code",
   "execution_count": 47,
   "metadata": {},
   "outputs": [],
   "source": [
    "ingredents_list_html = test_soup.find('div', class_='site-wrapper').find('div', class_='entry-content').ul.find_all('li')"
   ]
  },
  {
   "cell_type": "code",
   "execution_count": 48,
   "metadata": {},
   "outputs": [],
   "source": [
    "instructions_list_html = test_soup.find('div', class_='site-wrapper').find('div', class_='entry-content').ol.find_all('li')"
   ]
  },
  {
   "cell_type": "code",
   "execution_count": 46,
   "metadata": {},
   "outputs": [
    {
     "data": {
      "text/plain": [
       "[<li><p class=\"\" style=\"white-space:pre-wrap;\">Start by juicing ⅔ cup of key lime juice (15-30 key limes) and set aside. </p></li>,\n",
       " <li><p class=\"\" style=\"white-space:pre-wrap;\">Add 1 ½ pack of graham crackers to a food processor and pulse into a fine graham cracker dust. </p></li>,\n",
       " <li><p class=\"\" style=\"white-space:pre-wrap;\">After pulsed to dust, measure out about 200 grams worth of graham crackers dust. Add in 40 grams of powdered sugar (or regular sugar, just measure out the same amount) and a pinch of kosher salt. Whisk together until thoroughly combined. Make sure to crush any bits of powdered sugar. </p></li>,\n",
       " <li><p class=\"\" style=\"white-space:pre-wrap;\">Add 100 grams of melted unsalted butter and gently mix together using a rubber spatula and fingers combo until the graham crackers crumbs are evenly saturated and keep their shape when pressed together, but still crumbly like wet sand. </p></li>,\n",
       " <li><p class=\"\" style=\"white-space:pre-wrap;\">Dump into an unprepared pie plate and gently press them into all the corners and up the sides of the plate then using a ramekin to make sure everything is round and compacted.  </p></li>,\n",
       " <li><p class=\"\" style=\"white-space:pre-wrap;\">Place the pie crust into a 325°F for 15 minutes before being removed and cooled completely on a wire rack. </p></li>,\n",
       " <li><p class=\"\" style=\"white-space:pre-wrap;\">For the curd, into the bowl of a stand mixer goes 3 egg yolks separated from their whites with the zest of 1 large lime (or 3 key limes). Fix with a wire whisk to the stand mixer and beat the egg yolks for about 3 minutes on high speed.   </p></li>,\n",
       " <li><p class=\"\" style=\"white-space:pre-wrap;\">Add in a 14 oz can of sweetened condensed milk. Beat this together with the egg yolks using a paddle attachment on medium-high speed for about 5 minutes until it is lightly pale and slightly thickened. </p></li>,\n",
       " <li><p class=\"\" style=\"white-space:pre-wrap;\">At this point, slowly add in the ⅔ cup of lime juice while the mixer is running on low and mix until just combined (thickened from the lime juice acid) then give it a couple of folds using a rubber spatula, cover with plastic wrap and let rest at room temperature for 30 minutes. </p></li>,\n",
       " <li><p class=\"\" style=\"white-space:pre-wrap;\">After 30 minutes, pour the filling into the pie crust. Don’t worry if it looks a little low, it will expand in the oven. Give it a little wiggle to make sure it’s evenly dispersed. </p></li>,\n",
       " <li><p class=\"\" style=\"white-space:pre-wrap;\">Place it into a 325°F oven for about 25 minutes until set around the edges and register a temperature of 145°F in the center. </p></li>,\n",
       " <li><p class=\"\" style=\"white-space:pre-wrap;\">Let it cool at room temperature for about 2 hours. After this, cover with plastic wrap and place in the fridge for 4 hours. </p></li>,\n",
       " <li><p class=\"\" style=\"white-space:pre-wrap;\">For the whipped cream, mix together a pint of heavy cream, 2 tablespoons of sugar, and a dash of vanilla extract and beat until stiff peaks form. </p></li>,\n",
       " <li><p class=\"\" style=\"white-space:pre-wrap;\">Dump it into a pastry bag with a fancy tip and begin trying to decorate the fully cooled pie from the fridge. Garnish with slices of key limes and a generous zesting of key lime zest. </p></li>]"
      ]
     },
     "execution_count": 46,
     "metadata": {},
     "output_type": "execute_result"
    }
   ],
   "source": [
    "test_soup.find('div', class_='site-wrapper').find('div', class_='entry-content').ol.find_all('li')"
   ]
  },
  {
   "cell_type": "code",
   "execution_count": 57,
   "metadata": {},
   "outputs": [
    {
     "data": {
      "text/plain": [
       "'1 ½ packs graham crackers'"
      ]
     },
     "execution_count": 57,
     "metadata": {},
     "output_type": "execute_result"
    }
   ],
   "source": [
    "ingredents_list_html[1].text.replace('\\xa0', '')"
   ]
  },
  {
   "cell_type": "code",
   "execution_count": 58,
   "metadata": {},
   "outputs": [],
   "source": [
    "ingredents = []\n",
    "for item in ingredents_list_html:\n",
    "    ingredents.append(item.text.replace('\\xa0', ''))"
   ]
  },
  {
   "cell_type": "code",
   "execution_count": null,
   "metadata": {},
   "outputs": [],
   "source": []
  },
  {
   "cell_type": "code",
   "execution_count": null,
   "metadata": {},
   "outputs": [],
   "source": []
  },
  {
   "cell_type": "code",
   "execution_count": null,
   "metadata": {},
   "outputs": [],
   "source": []
  },
  {
   "cell_type": "code",
   "execution_count": null,
   "metadata": {},
   "outputs": [],
   "source": []
  },
  {
   "cell_type": "code",
   "execution_count": null,
   "metadata": {},
   "outputs": [],
   "source": []
  },
  {
   "cell_type": "code",
   "execution_count": 34,
   "metadata": {},
   "outputs": [
    {
     "data": {
      "text/plain": [
       "<html class=\"yui3-js-enabled js flexbox canvas canvastext webgl no-touch hashchange history draganddrop rgba hsla multiplebgs backgroundsize borderimage borderradius boxshadow textshadow opacity cssanimations csscolumns cssgradients cssreflections csstransforms no-csstransforms3d csstransitions video audio svg inlinesvg svgclippaths wf-futurapt-n7-active wf-futurapt-n4-active wf-circerounded-n4-active wf-circe-n3-active wf-circe-n8-active wf-circerounded-n7-active wf-circe-n7-active wf-futurapt-i7-active wf-futurapt-i4-active wf-futurapt-n3-active wf-futurapt-i3-active wf-active\" id=\"yui_3_17_2_1_1596821935845_74\" lang=\"en-US\" style=\"\" xmlns:fb=\"http://www.facebook.com/2008/fbml\" xmlns:og=\"http://opengraphprotocol.org/schema/\"><div id=\"yui3-css-stamp\" style=\"position: absolute !important; visibility: hidden !important\"></div><head>\n",
       "<meta charset=\"utf-8\"/>\n",
       "<meta content=\"IE=edge,chrome=1\" http-equiv=\"X-UA-Compatible\"/>\n",
       "<meta content=\"width=device-width,initial-scale=1\" name=\"viewport\"/>\n",
       "<!-- This is Squarespace. --><!-- andrew-rea-c8g3 -->\n",
       "<link charset=\"utf-8\" href=\"//assets.squarespace.com/universal/styles-compressed/simple-liking-9ef41bf7ba753d65ec1acf18e093b88a-min.en-US.css\" id=\"yui_3_17_2_1_1596821935845_114\" rel=\"stylesheet\"/><script charset=\"utf-8\" id=\"yui_3_17_2_1_1596821935845_113\" src=\"//assets.squarespace.com/universal/scripts-compressed/simple-liking-c8848804ce73ba7a5594c-min.en-US.js\"></script><link charset=\"utf-8\" href=\"//assets.squarespace.com/universal/styles-compressed/social-buttons-bf7788a87c794b73afd9d5c49f72f4f3-min.en-US.css\" id=\"yui_3_17_2_1_1596821935845_118\" rel=\"stylesheet\"/><script charset=\"utf-8\" id=\"yui_3_17_2_1_1596821935845_117\" src=\"//assets.squarespace.com/universal/scripts-compressed/social-buttons-b385c3e4fc956b9f87b30-min.en-US.js\"></script><base href=\"\"/>\n",
       "<meta charset=\"utf-8\"/>\n",
       "<title>Perfect Key Lime Pie inspired by Dexter — Binging With Babish</title>\n",
       "<link href=\"https://images.squarespace-cdn.com/content/v1/590be7fd15d5dbc6bf3e22d0/1496092300329-Q82R2259FWA044IZ6Z1T/ke17ZwdGBToddI8pDm48kAPa0Bgm7KpaNbphz84CZZB7gQa3H78H3Y0txjaiv_0fDoOvxcdMmMKkDsyUqMSsMWxHk725yiiHCCLfrh8O1z5QPOohDIaIeljMHgDF5CVlOqpeNLcJ80NK65_fV7S1UYZy7oOZfcwAkStf90BvDJJXmaBZPxlipuWfncWBf81r7zs2yPjc1ECvpa5Zm_kMqw/favicon.ico?format=100w\" rel=\"shortcut icon\" type=\"image/x-icon\"/>\n",
       "<link href=\"https://www.bingingwithbabish.com/recipes/dexter-key-lime-pie\" rel=\"canonical\"/>\n",
       "<link href=\"https://www.bingingwithbabish.com/recipes/dexter-key-lime-pie?format=amp\" rel=\"amphtml\"/>\n",
       "<meta content=\"Binging With Babish\" property=\"og:site_name\"/>\n",
       "<meta content=\"Perfect Key Lime Pie inspired by Dexter — Binging With Babish\" property=\"og:title\"/>\n",
       "<meta content=\"40.7207559\" property=\"og:latitude\"/>\n",
       "<meta content=\"-74.00076130000002\" property=\"og:longitude\"/>\n",
       "<meta content=\"https://www.bingingwithbabish.com/recipes/dexter-key-lime-pie\" property=\"og:url\"/>\n",
       "<meta content=\"article\" property=\"og:type\"/>\n",
       "<meta content=\"In a fan-favorite episode, Dexter Morgan takes a break from his close-up, slow-motion morning routine to kill a friend in need. But he can't saran-wrap her to a table and scalpel her cheek like any other Monday, he's gotta be nice about it, so he finds the best key lime pie in Miami and pumps it ful\" property=\"og:description\"/>\n",
       "<meta content=\"http://static1.squarespace.com/static/590be7fd15d5dbc6bf3e22d0/590bef6f46c3c4d418c28dac/5f20432d2159bb6cf0c5cdcd/1596555425763/Screen+Shot+2020-07-28+at+10.25.44+AM.png?format=1500w\" property=\"og:image\"/>\n",
       "<meta content=\"1500\" property=\"og:image:width\"/>\n",
       "<meta content=\"841\" property=\"og:image:height\"/>\n",
       "<meta content=\"Perfect Key Lime Pie inspired by Dexter — Binging With Babish\" itemprop=\"name\"/>\n",
       "<meta content=\"https://www.bingingwithbabish.com/recipes/dexter-key-lime-pie\" itemprop=\"url\"/>\n",
       "<meta content=\"In a fan-favorite episode, Dexter Morgan takes a break from his close-up, slow-motion morning routine to kill a friend in need. But he can't saran-wrap her to a table and scalpel her cheek like any other Monday, he's gotta be nice about it, so he finds the best key lime pie in Miami and pumps it ful\" itemprop=\"description\"/>\n",
       "<meta content=\"http://static1.squarespace.com/static/590be7fd15d5dbc6bf3e22d0/590bef6f46c3c4d418c28dac/5f20432d2159bb6cf0c5cdcd/1596555425763/Screen+Shot+2020-07-28+at+10.25.44+AM.png?format=1500w\" itemprop=\"thumbnailUrl\"/>\n",
       "<link href=\"http://static1.squarespace.com/static/590be7fd15d5dbc6bf3e22d0/590bef6f46c3c4d418c28dac/5f20432d2159bb6cf0c5cdcd/1596555425763/Screen+Shot+2020-07-28+at+10.25.44+AM.png?format=1500w\" rel=\"image_src\"/>\n",
       "<meta content=\"http://static1.squarespace.com/static/590be7fd15d5dbc6bf3e22d0/590bef6f46c3c4d418c28dac/5f20432d2159bb6cf0c5cdcd/1596555425763/Screen+Shot+2020-07-28+at+10.25.44+AM.png?format=1500w\" itemprop=\"image\"/>\n",
       "<meta content=\"Emilija Saxe\" itemprop=\"author\"/>\n",
       "<meta content=\"2020-07-29T07:12:21-0500\" itemprop=\"datePublished\"/>\n",
       "<meta content=\"Perfect Key Lime Pie inspired by Dexter\" itemprop=\"headline\"/>\n",
       "<meta content=\"Binging With Babish\" itemprop=\"publisher\"/>\n",
       "<meta content=\"Perfect Key Lime Pie inspired by Dexter — Binging With Babish\" name=\"twitter:title\"/>\n",
       "<meta content=\"http://static1.squarespace.com/static/590be7fd15d5dbc6bf3e22d0/590bef6f46c3c4d418c28dac/5f20432d2159bb6cf0c5cdcd/1596555425763/Screen+Shot+2020-07-28+at+10.25.44+AM.png?format=1500w\" name=\"twitter:image\"/>\n",
       "<meta content=\"https://www.bingingwithbabish.com/recipes/dexter-key-lime-pie\" name=\"twitter:url\"/>\n",
       "<meta content=\"summary\" name=\"twitter:card\"/>\n",
       "<meta content=\"In a fan-favorite episode, Dexter Morgan takes a break from his close-up, slow-motion morning routine to kill a friend in need. But he can't saran-wrap her to a table and scalpel her cheek like any other Monday, he's gotta be nice about it, so he finds the best key lime pie in Miami and pumps it ful\" name=\"twitter:description\"/>\n",
       "<meta content=\"\" name=\"description\"/>\n",
       "<script async=\"\" src=\"https://www.google-analytics.com/analytics.js\"></script><script src=\"//use.typekit.net/ik/9kkZTz5Hy26-1Dm4u0Z84tLHQ79NBP0cVji5JP3ZX8Xfe0XffFHN4UJLFRbh52jhWD9owe48FhZqwQmqFAsKjDZKZRF8wR4qwg7LMPG0jAoqScmaOW48jPuR5eSDO1FUiABkZWF3jAF8OcFzdPUydcskZWSlScmyOAwtZDw0SaBujW48Sagyjh90jhNlOe4TdciTdcia-WsGjcBK-WFGOcFzdPUCdhFydeyzSabCiaiaOcB0ZY48ikukZAIljDy1wkoDSWmyScmDSeBRZPoRdhXCiaiaOc4TdciTdcia-WsGjcBK-WFGOcFzdPJ4Z1mXiW4yOWgXJ6uR-W4RZPukdam0ZemqJ6mR-W4RZPG4fJZmIMMjMkMfH6qJyB9bMg6IJMJ7fbKgmsMMeMS6MKG4fJFmIMMj2PMfH6qJym9bMg65JMJ7fbKfmsMMegI6MKGHfF1_MsMgeMb6MKGHfFz_MsMgeMS6MKGHfFO_MsMfeMw6MKGHfFQ_MsMfeMS6MKGHfFW_MsMfeM66MTMgN5HovM9.js\" type=\"text/javascript\"></script>\n",
       "<style type=\"text/css\">@font-face{font-family:futura-pt;src:url(https://use.typekit.net/af/ae4f6c/000000000000000000010096/27/l?subset_id=2&fvd=n3&v=3) format(\"woff2\"),url(https://use.typekit.net/af/ae4f6c/000000000000000000010096/27/d?subset_id=2&fvd=n3&v=3) format(\"woff\"),url(https://use.typekit.net/af/ae4f6c/000000000000000000010096/27/a?subset_id=2&fvd=n3&v=3) format(\"opentype\");font-weight:300;font-style:normal;}@font-face{font-family:futura-pt;src:url(https://use.typekit.net/af/9b05f3/000000000000000000013365/27/l?subset_id=2&fvd=n4&v=3) format(\"woff2\"),url(https://use.typekit.net/af/9b05f3/000000000000000000013365/27/d?subset_id=2&fvd=n4&v=3) format(\"woff\"),url(https://use.typekit.net/af/9b05f3/000000000000000000013365/27/a?subset_id=2&fvd=n4&v=3) format(\"opentype\");font-weight:400;font-style:normal;}@font-face{font-family:futura-pt;src:url(https://use.typekit.net/af/309dfe/000000000000000000010091/27/l?subset_id=2&fvd=n7&v=3) format(\"woff2\"),url(https://use.typekit.net/af/309dfe/000000000000000000010091/27/d?subset_id=2&fvd=n7&v=3) format(\"woff\"),url(https://use.typekit.net/af/309dfe/000000000000000000010091/27/a?subset_id=2&fvd=n7&v=3) format(\"opentype\");font-weight:700;font-style:normal;}@font-face{font-family:futura-pt;src:url(https://use.typekit.net/af/849347/000000000000000000010093/27/l?subset_id=2&fvd=i3&v=3) format(\"woff2\"),url(https://use.typekit.net/af/849347/000000000000000000010093/27/d?subset_id=2&fvd=i3&v=3) format(\"woff\"),url(https://use.typekit.net/af/849347/000000000000000000010093/27/a?subset_id=2&fvd=i3&v=3) format(\"opentype\");font-weight:300;font-style:italic;}@font-face{font-family:futura-pt;src:url(https://use.typekit.net/af/cf3e4e/000000000000000000010095/27/l?subset_id=2&fvd=i4&v=3) format(\"woff2\"),url(https://use.typekit.net/af/cf3e4e/000000000000000000010095/27/d?subset_id=2&fvd=i4&v=3) format(\"woff\"),url(https://use.typekit.net/af/cf3e4e/000000000000000000010095/27/a?subset_id=2&fvd=i4&v=3) format(\"opentype\");font-weight:400;font-style:italic;}@font-face{font-family:futura-pt;src:url(https://use.typekit.net/af/eb729a/000000000000000000010092/27/l?subset_id=2&fvd=i7&v=3) format(\"woff2\"),url(https://use.typekit.net/af/eb729a/000000000000000000010092/27/d?subset_id=2&fvd=i7&v=3) format(\"woff\"),url(https://use.typekit.net/af/eb729a/000000000000000000010092/27/a?subset_id=2&fvd=i7&v=3) format(\"opentype\");font-weight:700;font-style:italic;}@font-face{font-family:circe-rounded;src:url(https://use.typekit.net/af/604812/00000000000000003b9aee05/27/l?subset_id=2&fvd=n4&v=3) format(\"woff2\"),url(https://use.typekit.net/af/604812/00000000000000003b9aee05/27/d?subset_id=2&fvd=n4&v=3) format(\"woff\"),url(https://use.typekit.net/af/604812/00000000000000003b9aee05/27/a?subset_id=2&fvd=n4&v=3) format(\"opentype\");font-weight:400;font-style:normal;}@font-face{font-family:circe-rounded;src:url(https://use.typekit.net/af/a7d97a/00000000000000003b9aee07/27/l?subset_id=2&fvd=n7&v=3) format(\"woff2\"),url(https://use.typekit.net/af/a7d97a/00000000000000003b9aee07/27/d?subset_id=2&fvd=n7&v=3) format(\"woff\"),url(https://use.typekit.net/af/a7d97a/00000000000000003b9aee07/27/a?subset_id=2&fvd=n7&v=3) format(\"opentype\");font-weight:700;font-style:normal;}@font-face{font-family:circe;src:url(https://use.typekit.net/af/bb13c5/00000000000000003b9b3564/27/l?subset_id=2&fvd=n3&v=3) format(\"woff2\"),url(https://use.typekit.net/af/bb13c5/00000000000000003b9b3564/27/d?subset_id=2&fvd=n3&v=3) format(\"woff\"),url(https://use.typekit.net/af/bb13c5/00000000000000003b9b3564/27/a?subset_id=2&fvd=n3&v=3) format(\"opentype\");font-weight:300;font-style:normal;}@font-face{font-family:circe;src:url(https://use.typekit.net/af/534001/00000000000000003b9b3568/27/l?subset_id=2&fvd=n7&v=3) format(\"woff2\"),url(https://use.typekit.net/af/534001/00000000000000003b9b3568/27/d?subset_id=2&fvd=n7&v=3) format(\"woff\"),url(https://use.typekit.net/af/534001/00000000000000003b9b3568/27/a?subset_id=2&fvd=n7&v=3) format(\"opentype\");font-weight:700;font-style:normal;}@font-face{font-family:circe;src:url(https://use.typekit.net/af/9b22e4/00000000000000003b9b356a/27/l?subset_id=2&fvd=n8&v=3) format(\"woff2\"),url(https://use.typekit.net/af/9b22e4/00000000000000003b9b356a/27/d?subset_id=2&fvd=n8&v=3) format(\"woff\"),url(https://use.typekit.net/af/9b22e4/00000000000000003b9b356a/27/a?subset_id=2&fvd=n8&v=3) format(\"opentype\");font-weight:800;font-style:normal;}</style><script type=\"text/javascript\">try{Typekit.load();}catch(e){}</script>\n",
       "<link href=\"//fonts.googleapis.com/css?family=Montserrat:400\" rel=\"stylesheet\" type=\"text/css\"/>\n",
       "<script type=\"text/javascript\">SQUARESPACE_ROLLUPS = {};</script>\n",
       "<script>(function(rollups, name) { if (!rollups[name]) { rollups[name] = {}; } rollups[name].js = [\"//assets.squarespace.com/universal/scripts-compressed/common-vendors-4462869f33015f1b14d8b-min.en-US.js\"]; })(SQUARESPACE_ROLLUPS, 'squarespace-common_vendors');</script>\n",
       "<script crossorigin=\"anonymous\" src=\"//assets.squarespace.com/universal/scripts-compressed/common-vendors-4462869f33015f1b14d8b-min.en-US.js\"></script><script>(function(rollups, name) { if (!rollups[name]) { rollups[name] = {}; } rollups[name].js = [\"//assets.squarespace.com/universal/scripts-compressed/common-9cf6f93e976d2fa91cbf0-min.en-US.js\"]; })(SQUARESPACE_ROLLUPS, 'squarespace-common');</script>\n",
       "<script crossorigin=\"anonymous\" src=\"//assets.squarespace.com/universal/scripts-compressed/common-9cf6f93e976d2fa91cbf0-min.en-US.js\"></script><script crossorigin=\"anonymous\" defer=\"\" src=\"//assets.squarespace.com/universal/scripts-compressed/performance-235a61b92e07f101ec77f-min.en-US.js\"></script><script data-name=\"static-context\">Static = window.Static || {}; Static.SQUARESPACE_CONTEXT = {\"facebookAppId\":\"314192535267336\",\"facebookApiVersion\":\"v6.0\",\"rollups\":{\"squarespace-announcement-bar\":{\"js\":\"//assets.squarespace.com/universal/scripts-compressed/announcement-bar-b3058d7409b9c2e4b4345-min.en-US.js\"},\"squarespace-audio-player\":{\"css\":\"//assets.squarespace.com/universal/styles-compressed/audio-player-52bdd87acccf92a19703e60e09c654bd-min.en-US.css\",\"js\":\"//assets.squarespace.com/universal/scripts-compressed/audio-player-81200e9f94061cbf61905-min.en-US.js\"},\"squarespace-blog-collection-list\":{\"css\":\"//assets.squarespace.com/universal/styles-compressed/blog-collection-list-d41d8cd98f00b204e9800998ecf8427e-min.en-US.css\",\"js\":\"//assets.squarespace.com/universal/scripts-compressed/blog-collection-list-fef5ba9a473bb949849ab-min.en-US.js\"},\"squarespace-calendar-block-renderer\":{\"css\":\"//assets.squarespace.com/universal/styles-compressed/calendar-block-renderer-1e8a762808391e4b0bd8945da50793ac-min.en-US.css\",\"js\":\"//assets.squarespace.com/universal/scripts-compressed/calendar-block-renderer-da5b2f0e492efb386153b-min.en-US.js\"},\"squarespace-chartjs-helpers\":{\"css\":\"//assets.squarespace.com/universal/styles-compressed/chartjs-helpers-9935a41d63cf08ca108505d288c1712e-min.en-US.css\",\"js\":\"//assets.squarespace.com/universal/scripts-compressed/chartjs-helpers-47687dcec513830fa1626-min.en-US.js\"},\"squarespace-comments\":{\"css\":\"//assets.squarespace.com/universal/styles-compressed/comments-f794dccd3bb871fc0cbc0bb7ad024168-min.en-US.css\",\"js\":\"//assets.squarespace.com/universal/scripts-compressed/comments-d68a90173b335664a580f-min.en-US.js\"},\"squarespace-commerce-cart\":{\"js\":\"//assets.squarespace.com/universal/scripts-compressed/commerce-cart-0699257f1cd979374b30f-min.en-US.js\"},\"squarespace-dialog\":{\"css\":\"//assets.squarespace.com/universal/styles-compressed/dialog-afeb96ba160fb642a2d98c892a956065-min.en-US.css\",\"js\":\"//assets.squarespace.com/universal/scripts-compressed/dialog-1749b0df940f2dff1d04c-min.en-US.js\"},\"squarespace-events-collection\":{\"css\":\"//assets.squarespace.com/universal/styles-compressed/events-collection-1e8a762808391e4b0bd8945da50793ac-min.en-US.css\",\"js\":\"//assets.squarespace.com/universal/scripts-compressed/events-collection-b18091210ce0bedc51e00-min.en-US.js\"},\"squarespace-form-rendering-utils\":{\"js\":\"//assets.squarespace.com/universal/scripts-compressed/form-rendering-utils-bdfa57f110a4d580539fb-min.en-US.js\"},\"squarespace-forms\":{\"css\":\"//assets.squarespace.com/universal/styles-compressed/forms-d21f3e517c32f4caba9f220beea0666d-min.en-US.css\",\"js\":\"//assets.squarespace.com/universal/scripts-compressed/forms-6f585222f8e79cc11c1d5-min.en-US.js\"},\"squarespace-gallery-collection-list\":{\"css\":\"//assets.squarespace.com/universal/styles-compressed/gallery-collection-list-d41d8cd98f00b204e9800998ecf8427e-min.en-US.css\",\"js\":\"//assets.squarespace.com/universal/scripts-compressed/gallery-collection-list-4f5c2e24b70dabb8b8057-min.en-US.js\"},\"squarespace-image-zoom\":{\"css\":\"//assets.squarespace.com/universal/styles-compressed/image-zoom-72b0ab7796582588032aa6472e2e2f14-min.en-US.css\",\"js\":\"//assets.squarespace.com/universal/scripts-compressed/image-zoom-0f380297661300253a5ff-min.en-US.js\"},\"squarespace-pinterest\":{\"css\":\"//assets.squarespace.com/universal/styles-compressed/pinterest-d41d8cd98f00b204e9800998ecf8427e-min.en-US.css\",\"js\":\"//assets.squarespace.com/universal/scripts-compressed/pinterest-e247313c0f6b5389e84a9-min.en-US.js\"},\"squarespace-popup-overlay\":{\"css\":\"//assets.squarespace.com/universal/styles-compressed/popup-overlay-e984c5797664760d617b07bce15392a1-min.en-US.css\",\"js\":\"//assets.squarespace.com/universal/scripts-compressed/popup-overlay-b4e30daeb215d30992967-min.en-US.js\"},\"squarespace-product-quick-view\":{\"css\":\"//assets.squarespace.com/universal/styles-compressed/product-quick-view-3fa8fd4df0755e7a7878e60166ca3d61-min.en-US.css\",\"js\":\"//assets.squarespace.com/universal/scripts-compressed/product-quick-view-8cea2ccaf37dac1c397f7-min.en-US.js\"},\"squarespace-products-collection-item-v2\":{\"css\":\"//assets.squarespace.com/universal/styles-compressed/products-collection-item-v2-72b0ab7796582588032aa6472e2e2f14-min.en-US.css\",\"js\":\"//assets.squarespace.com/universal/scripts-compressed/products-collection-item-v2-ef2fedd2224e2aaa4468d-min.en-US.js\"},\"squarespace-products-collection-list-v2\":{\"css\":\"//assets.squarespace.com/universal/styles-compressed/products-collection-list-v2-72b0ab7796582588032aa6472e2e2f14-min.en-US.css\",\"js\":\"//assets.squarespace.com/universal/scripts-compressed/products-collection-list-v2-4de4c03ddba7e54a0404c-min.en-US.js\"},\"squarespace-search-page\":{\"css\":\"//assets.squarespace.com/universal/styles-compressed/search-page-207da8872118254c0a795bf9b187c205-min.en-US.css\",\"js\":\"//assets.squarespace.com/universal/scripts-compressed/search-page-6c7b793fe27b551a2d593-min.en-US.js\"},\"squarespace-search-preview\":{\"js\":\"//assets.squarespace.com/universal/scripts-compressed/search-preview-41647fa66648e4a455736-min.en-US.js\"},\"squarespace-share-buttons\":{\"js\":\"//assets.squarespace.com/universal/scripts-compressed/share-buttons-b9ede601d44778a86dc48-min.en-US.js\"},\"squarespace-simple-liking\":{\"css\":\"//assets.squarespace.com/universal/styles-compressed/simple-liking-9ef41bf7ba753d65ec1acf18e093b88a-min.en-US.css\",\"js\":\"//assets.squarespace.com/universal/scripts-compressed/simple-liking-c8848804ce73ba7a5594c-min.en-US.js\"},\"squarespace-social-buttons\":{\"css\":\"//assets.squarespace.com/universal/styles-compressed/social-buttons-bf7788a87c794b73afd9d5c49f72f4f3-min.en-US.css\",\"js\":\"//assets.squarespace.com/universal/scripts-compressed/social-buttons-b385c3e4fc956b9f87b30-min.en-US.js\"},\"squarespace-tourdates\":{\"css\":\"//assets.squarespace.com/universal/styles-compressed/tourdates-d41d8cd98f00b204e9800998ecf8427e-min.en-US.css\",\"js\":\"//assets.squarespace.com/universal/scripts-compressed/tourdates-713219d336aad63e45686-min.en-US.js\"},\"squarespace-website-overlays-manager\":{\"css\":\"//assets.squarespace.com/universal/styles-compressed/website-overlays-manager-68df56a8135961401cbd590171d6b04a-min.en-US.css\",\"js\":\"//assets.squarespace.com/universal/scripts-compressed/website-overlays-manager-de208774d5296c1e9ebc6-min.en-US.js\"}},\"pageType\":50,\"website\":{\"id\":\"590be7fd15d5dbc6bf3e22d0\",\"identifier\":\"andrew-rea-c8g3\",\"websiteType\":1,\"contentModifiedOn\":1596556023977,\"cloneable\":false,\"hasBeenCloneable\":false,\"developerMode\":true,\"siteStatus\":{},\"language\":\"en-US\",\"timeZone\":\"America/Chicago\",\"machineTimeZoneOffset\":-18000000,\"timeZoneOffset\":-18000000,\"timeZoneAbbr\":\"CDT\",\"siteTitle\":\"Binging With Babish\",\"fullSiteTitle\":\"Perfect Key Lime Pie inspired by Dexter \\u2014 Binging With Babish\",\"siteDescription\":\"\",\"socialLogoImageId\":\"592c8d75e4fcb57df0b8c44f\",\"shareButtonOptions\":{\"8\":true,\"1\":true,\"2\":true,\"3\":true,\"6\":true,\"7\":true,\"4\":true},\"socialLogoImageUrl\":\"//static1.squarespace.com/static/590be7fd15d5dbc6bf3e22d0/t/592c8d75e4fcb57df0b8c44f/1596556023977/\",\"authenticUrl\":\"https://www.bingingwithbabish.com\",\"internalUrl\":\"https://andrew-rea-c8g3.squarespace.com\",\"baseUrl\":\"https://www.bingingwithbabish.com\",\"primaryDomain\":\"www.bingingwithbabish.com\",\"sslSetting\":3,\"isHstsEnabled\":true,\"socialAccounts\":[{\"serviceId\":11,\"userId\":\"UCJHA_jMfCvEnv-3kRjTCQXw\",\"screenname\":\"Andrew Rea\",\"addedOn\":1493965051732,\"profileUrl\":\"https://www.youtube.com/channel/UCJHA_jMfCvEnv-3kRjTCQXw\",\"iconUrl\":\"https://yt3.ggpht.com/-M0_lRsNbwbA/AAAAAAAAAAI/AAAAAAAAAAA/1rCKpaxGY7E/s88-c-k-no-mo-rj-c0xffffff/photo.jpg\",\"iconEnabled\":true,\"serviceName\":\"youtube\"},{\"serviceId\":2,\"userId\":\"10103135361437513\",\"screenname\":\"Katie McKinney\",\"addedOn\":1493964636608,\"profileUrl\":\"http://www.facebook.com/bingingwithbabish\",\"iconUrl\":\"http://graph.facebook.com/10103135361437513/picture?type=square\",\"metaData\":{\"service\":\"facebook\"},\"iconEnabled\":true,\"serviceName\":\"facebook\"},{\"serviceId\":10,\"userId\":\"4473932737\",\"userName\":\"bingingwithbabish\",\"screenname\":\"Binging With Babish\",\"addedOn\":1493961986727,\"profileUrl\":\"http://instagram.com/bingingwithbabish\",\"iconUrl\":\"https://scontent.cdninstagram.com/t51.2885-19/s150x150/15877249_1831511887136165_4690949665644871680_a.jpg\",\"collectionId\":\"590c0d0215d5dbc6bf3fa8e8\",\"iconEnabled\":true,\"serviceName\":\"instagram\"},{\"serviceId\":4,\"userId\":\"800432471472902144\",\"userName\":\"BingingWBabish\",\"screenname\":\"Binging With Babish\",\"addedOn\":1493965111089,\"profileUrl\":\"https://twitter.com/BingingWBabish\",\"iconUrl\":\"http://pbs.twimg.com/profile_images/821082331628699648/kKz4ARqk_normal.jpg\",\"collectionId\":\"590c1937db29d6fb55cf82ba\",\"iconEnabled\":true,\"serviceName\":\"twitter\"},{\"serviceId\":27,\"userName\":\"Bedtime With Babish\",\"screenname\":\"Bedtime With Babish\",\"addedOn\":1514930390413,\"profileUrl\":\"https://itunes.apple.com/us/podcast/bedtime-with-babish/id1327655367?mt=2\",\"iconEnabled\":true,\"serviceName\":\"itunes\"},{\"serviceId\":25,\"userId\":\"367423217\",\"userName\":\"bedtimewithbabish\",\"screenname\":\"Bedtime with Babish\",\"addedOn\":1514930666485,\"profileUrl\":\"http://soundcloud.com/bedtimewithbabish\",\"iconUrl\":\"https://i1.sndcdn.com/avatars-000368018282-1cvko3-large.jpg\",\"iconEnabled\":true,\"serviceName\":\"soundcloud\"},{\"serviceId\":53,\"screenname\":\"Bedtime With Babish - Stitcher\",\"addedOn\":1514930704590,\"profileUrl\":\"https://www.stitcher.com/podcast/bedtime-with-babish\",\"iconEnabled\":true,\"serviceName\":\"stitcher\"}],\"typekitId\":\"\",\"statsMigrated\":false,\"imageMetadataProcessingEnabled\":false,\"screenshotId\":\"299fea822e8ba653ec598aea5aa15bc5391d82304478a458774e3e5f1cfbd584\",\"captchaSettings\":{\"enabledForDonations\":false},\"showOwnerLogin\":false},\"websiteSettings\":{\"id\":\"590be7fd15d5dbc6bf3e22d3\",\"websiteId\":\"590be7fd15d5dbc6bf3e22d0\",\"subjects\":[],\"country\":\"US\",\"state\":\"NE\",\"simpleLikingEnabled\":true,\"mobileInfoBarSettings\":{\"isContactEmailEnabled\":false,\"isContactPhoneNumberEnabled\":false,\"isLocationEnabled\":false,\"isBusinessHoursEnabled\":false},\"commentLikesAllowed\":true,\"commentAnonAllowed\":true,\"commentThreaded\":true,\"commentApprovalRequired\":false,\"commentAvatarsOn\":true,\"commentSortType\":2,\"commentFlagThreshold\":0,\"commentFlagsAllowed\":true,\"commentEnableByDefault\":false,\"commentDisableAfterDaysDefault\":0,\"disqusShortname\":\"\",\"commentsEnabled\":false,\"storeSettings\":{\"returnPolicy\":null,\"termsOfService\":null,\"privacyPolicy\":null,\"expressCheckout\":false,\"continueShoppingLinkUrl\":\"/\",\"useLightCart\":false,\"showNoteField\":false,\"shippingCountryDefaultValue\":\"US\",\"billToShippingDefaultValue\":false,\"showShippingPhoneNumber\":true,\"isShippingPhoneRequired\":false,\"showBillingPhoneNumber\":true,\"isBillingPhoneRequired\":false,\"currenciesSupported\":[\"CHF\",\"HKD\",\"MXN\",\"EUR\",\"DKK\",\"USD\",\"CAD\",\"MYR\",\"NOK\",\"THB\",\"AUD\",\"SGD\",\"ILS\",\"PLN\",\"GBP\",\"CZK\",\"SEK\",\"NZD\",\"PHP\",\"RUB\"],\"defaultCurrency\":\"USD\",\"selectedCurrency\":\"USD\",\"measurementStandard\":1,\"orderConfirmationInjectCode\":\"\",\"showCustomCheckoutForm\":false,\"enableMailingListOptInByDefault\":false,\"sameAsRetailLocation\":false,\"merchandisingSettings\":{\"scarcityEnabledOnProductItems\":false,\"scarcityEnabledOnProductBlocks\":false,\"scarcityMessageType\":\"DEFAULT_SCARCITY_MESSAGE\",\"scarcityThreshold\":10,\"multipleQuantityAllowedForServices\":true,\"restockNotificationsEnabled\":false,\"restockNotificationsMailingListSignUpEnabled\":false,\"relatedProductsEnabled\":false,\"relatedProductsOrdering\":\"random\",\"soldOutVariantsDropdownDisabled\":false,\"productComposerOptedIn\":false},\"isLive\":false,\"multipleQuantityAllowedForServices\":true},\"useEscapeKeyToLogin\":true,\"trialAssistantEnabled\":true,\"ssBadgeType\":1,\"ssBadgePosition\":4,\"ssBadgeVisibility\":1,\"ssBadgeDevices\":1,\"pinterestOverlayOptions\":{\"mode\":\"disabled\"},\"ampEnabled\":true},\"cookieSettings\":{\"isCookieBannerEnabled\":false,\"isRestrictiveCookiePolicyEnabled\":false,\"isRestrictiveCookiePolicyAbsolute\":false,\"cookieBannerText\":\"\",\"cookieBannerTheme\":\"\",\"cookieBannerVariant\":\"\",\"cookieBannerPosition\":\"\",\"cookieBannerCtaVariant\":\"\",\"cookieBannerCtaText\":\"\"},\"websiteCloneable\":false,\"collection\":{\"title\":\"Recipes\",\"id\":\"590bef6f46c3c4d418c28dac\",\"fullUrl\":\"/recipes\",\"type\":1,\"permissionType\":1},\"item\":{\"title\":\"Perfect Key Lime Pie inspired by Dexter\",\"id\":\"5f20432d2159bb6cf0c5cdcd\",\"fullUrl\":\"/recipes/dexter-key-lime-pie\",\"publicCommentCount\":0,\"commentState\":1,\"recordType\":1},\"subscribed\":false,\"appDomain\":\"squarespace.com\",\"templateTweakable\":true,\"tweakJSON\":{\"aspect-ratio\":\"Auto\",\"contentBgColor\":\"rgba(255,255,255,1)\",\"first-index-image-fullscreen\":\"true\",\"fixed-header\":\"true\",\"footerBgColor\":\"hsl(221, 8%, 8%)\",\"gallery-arrow-style\":\"No Background\",\"gallery-auto-crop\":\"true\",\"gallery-autoplay\":\"true\",\"gallery-design\":\"Slideshow\",\"gallery-info-overlay\":\"Hide\",\"gallery-loop\":\"true\",\"gallery-navigation\":\"None\",\"gallery-show-arrows\":\"true\",\"galleryArrowBackground\":\"rgba(255,255,255,1)\",\"galleryArrowColor\":\"rgba(255,255,255,1)\",\"galleryAutoplaySpeed\":\"4\",\"galleryCircleColor\":\"rgba(255,255,255,1)\",\"galleryInfoBackground\":\"rgba(0, 0, 0, .7)\",\"galleryThumbnailSize\":\"100px\",\"gridSize\":\"350px\",\"gridSpacing\":\"20px\",\"headerBgColor\":\"rgba(26,26,26,1)\",\"imageOverlayColor\":\"hsla(190, 53%, 22%, 0)\",\"index-image-height\":\"Fullscreen\",\"parallax-scrolling\":\"true\",\"product-gallery-auto-crop\":\"true\",\"product-image-auto-crop\":\"true\",\"title--description-alignment\":\"Center\",\"title--description-position\":\"Over Image\",\"titleBgColor\":\"rgba(26,26,26,1)\",\"transparent-header\":\"true\",\"tweak-v1-related-products-title-spacing\":\"50px\"},\"templateId\":\"5a270b628165f51e6bf25b97\",\"templateVersion\":\"7\",\"pageFeatures\":[1,2,4],\"gmRenderKey\":\"QUl6YVN5Q0JUUk9xNkx1dkZfSUUxcjQ2LVQ0QWVUU1YtMGQ3bXk4\",\"betaFeatureFlags\":[\"ORDERS-SERVICE-check-digital-good-access-with-service\",\"gallery_captions_71\",\"domain_deletion_via_registrar_service\",\"domains_allow_async_gsuite\",\"ORDERS-SERVICE-cancel-order-using-workflow\",\"domain_locking_via_registrar_service\",\"seven_one_header_editor_update\",\"ORDER_SERVICE-submit-reoccurring-subscription-order-through-service\",\"crm_campaigns_sending\",\"commerce_activation_experiment_add_payment_processor_card\",\"seven_one_theme_mapper_v3\",\"crm_redirect_from_customers\",\"commerce_product_composer_all_types\",\"mobile_preview_page_editing\",\"new_billing_system\",\"ORDERS-SERVICE-reset-digital-goods-access-with-service\",\"ORDERS-SERVICE-refund-order-using-workflow\",\"crm_product\",\"global_animations\",\"domains_transfer_flow_improvements\",\"campaigns_single_opt_in\",\"commerce_subscription_order_delay\",\"commerce_setup_wizard\",\"trust_arc_on_config\",\"donations_customer_accounts\",\"local_listings\",\"domains_transfer_flow_hide_preface\",\"commerce_minimum_order_amount\",\"seven_one_portfolio_hover_layouts\",\"commerce_instagram_product_checkout_links\",\"seven_one_image_overlay_opacity\",\"seven-one-content-preview-section-api\",\"generic_iframe_loader_for_campaigns\",\"domain_info_via_registrar_service\",\"commerce_restock_notifications\",\"domains_use_new_domain_connect_strategy\",\"newsletter_block_captcha\",\"blog_event_item_settings\",\"gallery_settings_71\",\"demo_content_improvement\",\"dg_downloads_from_fastly\",\"ORDER_SERVICE-submit-subscription-order-through-service\"],\"yuiEliminationExperimentList\":[{\"name\":\"statsMigrationJobWidget-enabled\",\"experimentType\":\"AB_TEST\",\"variant\":\"true\",\"containsError\":false,\"status\":\"ACTIVE\"},{\"name\":\"ContributionConfirmed-enabled\",\"experimentType\":\"AB_TEST\",\"variant\":\"false\",\"containsError\":false,\"status\":\"ACTIVE\"},{\"name\":\"TextPusher-enabled\",\"experimentType\":\"AB_TEST\",\"variant\":\"true\",\"containsError\":false,\"status\":\"ACTIVE\"},{\"name\":\"MenuItemWithProgress-enabled\",\"experimentType\":\"AB_TEST\",\"variant\":\"true\",\"containsError\":false,\"status\":\"ACTIVE\"},{\"name\":\"imageProcJobWidget-enabled\",\"experimentType\":\"AB_TEST\",\"variant\":\"true\",\"containsError\":false,\"status\":\"ACTIVE\"},{\"name\":\"QuantityChangePreview-enabled\",\"experimentType\":\"AB_TEST\",\"variant\":\"true\",\"containsError\":false,\"status\":\"ACTIVE\"},{\"name\":\"CompositeModel-enabled\",\"experimentType\":\"AB_TEST\",\"variant\":\"false\",\"containsError\":false,\"status\":\"ACTIVE\"},{\"name\":\"HasPusherMixin-enabled\",\"experimentType\":\"AB_TEST\",\"variant\":\"true\",\"containsError\":false,\"status\":\"INACTIVE\"},{\"name\":\"ProviderList-enabled\",\"experimentType\":\"AB_TEST\",\"variant\":\"true\",\"containsError\":false,\"status\":\"ACTIVE\"},{\"name\":\"MediaTracker-enabled\",\"experimentType\":\"AB_TEST\",\"variant\":\"false\",\"containsError\":false,\"status\":\"ACTIVE\"},{\"name\":\"pushJobWidget-enabled\",\"experimentType\":\"AB_TEST\",\"variant\":\"true\",\"containsError\":false,\"status\":\"ACTIVE\"},{\"name\":\"internal-enabled\",\"experimentType\":\"AB_TEST\",\"variant\":\"true\",\"containsError\":false,\"status\":\"ACTIVE\"},{\"name\":\"BillingPanel-enabled\",\"experimentType\":\"AB_TEST\",\"variant\":\"false\",\"containsError\":false,\"status\":\"ACTIVE\"},{\"name\":\"PopupOverlayEditor-enabled\",\"experimentType\":\"AB_TEST\",\"variant\":\"true\",\"containsError\":false,\"status\":\"ACTIVE\"},{\"name\":\"CoverPagePicker-enabled\",\"experimentType\":\"AB_TEST\",\"variant\":\"true\",\"containsError\":false,\"status\":\"ACTIVE\"}],\"impersonatedSession\":false,\"tzData\":{\"zones\":[[-360,\"US\",\"C%sT\",null]],\"rules\":{\"US\":[[1967,2006,null,\"Oct\",\"lastSun\",\"2:00\",\"0\",\"S\"],[1987,2006,null,\"Apr\",\"Sun>=1\",\"2:00\",\"1:00\",\"D\"],[2007,\"max\",null,\"Mar\",\"Sun>=8\",\"2:00\",\"1:00\",\"D\"],[2007,\"max\",null,\"Nov\",\"Sun>=1\",\"2:00\",\"0\",\"S\"]]}}};</script><script type=\"text/javascript\"> SquarespaceFonts.loadViaContext(); Squarespace.load(window);</script><link href=\"https://www.bingingwithbabish.com/recipes?format=rss\" rel=\"alternate\" title=\"RSS Feed\" type=\"application/rss+xml\"/>\n",
       "<script type=\"application/ld+json\">{\"url\":\"https://www.bingingwithbabish.com\",\"name\":\"Binging With Babish\",\"description\":\"\",\"@context\":\"http://schema.org\",\"@type\":\"WebSite\"}</script><script type=\"application/ld+json\">{\"name\":\"Perfect Key Lime Pie inspired by Dexter \\u2014 Binging With Babish\",\"url\":\"https://www.bingingwithbabish.com/recipes/dexter-key-lime-pie\",\"datePublished\":\"2020-07-29T07:12:21-0500\",\"headline\":\"Perfect Key Lime Pie inspired by Dexter\",\"author\":\"Emilija Saxe\",\"publisher\":{\"name\":\"Binging With Babish\",\"logo\":{\"@type\":\"ImageObject\"},\"@context\":\"http://schema.org\",\"@type\":\"Organization\"},\"image\":\"http://static1.squarespace.com/static/590be7fd15d5dbc6bf3e22d0/590bef6f46c3c4d418c28dac/5f20432d2159bb6cf0c5cdcd/1596555425763/Screen+Shot+2020-07-28+at+10.25.44+AM.png?format=1500w\",\"@context\":\"http://schema.org\",\"@type\":\"Article\"}</script><link href=\"//static1.squarespace.com/static/sitecss/590be7fd15d5dbc6bf3e22d0/137/5a270b628165f51e6bf25b97/5a270b628165f51e6bf25b9d/7-05142015/1576878307514/site.css?&amp;filterFeatures=false\" rel=\"stylesheet\" type=\"text/css\"/><link href=\"//maxcdn.bootstrapcdn.com/font-awesome/4.2.0/css/font-awesome.min.css\" rel=\"stylesheet\"/>\n",
       "<link href=\"https://s3.amazonaws.com/icomoon.io/114779/Socicon/style.css?cp0z2c\" rel=\"stylesheet\"/><script>Static.COOKIE_BANNER_CAPABLE = true;</script>\n",
       "<script>(function(i,s,o,g,r,a,m){i['GoogleAnalyticsObject']=r;i[r]=i[r]||function(){(i[r].q=i[r].q||[]).push(arguments)},i[r].l=1*new Date();a=s.createElement(o),m=s.getElementsByTagName(o)[0];a.async=1;a.src=g;m.parentNode.insertBefore(a,m)})(window,document,'script','https://www.google-analytics.com/analytics.js','ga');ga('create', 'UA-147841456-1', 'auto');ga('send', 'pageview');</script><!-- End of Squarespace Headers -->\n",
       "<script>\n",
       "      Y.Squarespace.FollowButtonUtils = {};\n",
       "      Y.Squarespace.FollowButtonUtils.renderAll = function(){};\n",
       "    </script>\n",
       "</head>\n",
       "<body class=\"event-excerpts event-list-date event-list-time event-list-address event-calendar-compact-view events-layout-columns events-width-full gallery-design-slideshow aspect-ratio-auto lightbox-style-dark gallery-navigation-none gallery-info-overlay-hide gallery-arrow-style-no-background gallery-show-arrows gallery-auto-crop gallery-autoplay gallery-loop fixed-header transparent-header parallax-scrolling hide-parallax-nav first-index-image-fullscreen index-image-height-fullscreen hide-page-title title--description-alignment-center title--description-position-over-image extra-description-formatting description-button-style-outline description-button-corner-style-pill blog-layout-columns blog-width-full hide-author show-category-navigation product-list-titles-under product-list-alignment-center product-item-size-11-square product-image-auto-crop product-gallery-size-11-square product-gallery-auto-crop show-product-price show-product-item-nav product-social-sharing tweak-v1-related-products-image-aspect-ratio-11-square tweak-v1-related-products-details-alignment-center newsletter-style-dark opentable-style-light small-button-style-solid small-button-shape-square medium-button-style-outline medium-button-shape-pill large-button-style-solid large-button-shape-square image-block-poster-text-alignment-center image-block-card-dynamic-font-sizing image-block-card-content-position-center image-block-card-text-alignment-left image-block-overlap-dynamic-font-sizing image-block-overlap-content-position-center image-block-overlap-text-alignment-left image-block-collage-dynamic-font-sizing image-block-collage-content-position-top image-block-collage-text-alignment-left image-block-stack-dynamic-font-sizing image-block-stack-text-alignment-left button-style-outline button-corner-style-square tweak-product-quick-view-button-style-floating tweak-product-quick-view-button-position-bottom tweak-product-quick-view-lightbox-excerpt-display-truncate tweak-product-quick-view-lightbox-show-arrows tweak-product-quick-view-lightbox-show-close-button tweak-product-quick-view-lightbox-controls-weight-light native-currency-code-usd view-item collection-type-blog collection-layout-default collection-590bef6f46c3c4d418c28dac mobile-style-available has-banner-image has-nav loaded\" id=\"item-5f20432d2159bb6cf0c5cdcd\">\n",
       "<div data-content-field=\"navigation-mobileNav\" id=\"mobileNav\">\n",
       "<nav class=\"main-nav\">\n",
       "<div class=\"nav-wrapper\">\n",
       "<ul class=\"cf\">\n",
       "<li class=\"index-collection folder\">\n",
       "<a href=\"/\"><span>Home</span></a>\n",
       "</li>\n",
       "<li class=\"blog-collection active-link\">\n",
       "<a href=\"/recipes\"><span>Recipes</span></a>\n",
       "</li>\n",
       "<li class=\"external-link\">\n",
       "<a href=\"http://www.basicswithbabish.com\" target=\"_blank\"><span>Basics</span></a>\n",
       "</li>\n",
       "<li class=\"folders-collection folder\">\n",
       "<!--FOLDER-->\n",
       "<div class=\"folder-parent\">\n",
       "<a aria-haspopup=\"true\"><span>About</span></a>\n",
       "<div class=\"folder-child-wrapper\">\n",
       "<ul class=\"folder-child\">\n",
       "<li class=\"\">\n",
       "<a href=\"/about\">\n",
       "<span>About</span>\n",
       "</a>\n",
       "</li>\n",
       "<li class=\"\">\n",
       "<a href=\"/equipment-list\">\n",
       "<span>Equipment List</span>\n",
       "</a>\n",
       "</li>\n",
       "<li class=\"\">\n",
       "<a href=\"/faqs\">\n",
       "<span>FAQs</span>\n",
       "</a>\n",
       "</li>\n",
       "<li class=\"\">\n",
       "<a href=\"/episode-rankings\">\n",
       "<span>Rankings</span>\n",
       "</a>\n",
       "</li>\n",
       "<li class=\"\">\n",
       "<a href=\"/blog\">\n",
       "<span>Blog</span>\n",
       "</a>\n",
       "</li>\n",
       "</ul>\n",
       "</div>\n",
       "</div>\n",
       "</li>\n",
       "<li class=\"page-collection\">\n",
       "<a href=\"/events\"><span>events</span></a>\n",
       "</li>\n",
       "<li class=\"page-collection\">\n",
       "<a href=\"/cookbook\"><span>Cookbook</span></a>\n",
       "</li>\n",
       "<li class=\"external-link\">\n",
       "<a href=\"http://www.babish.store\"><span>store</span></a>\n",
       "</li>\n",
       "<li class=\"page-collection\">\n",
       "<a href=\"/health-fitness\"><span>Health</span></a>\n",
       "</li>\n",
       "<li class=\"external-link\">\n",
       "<a href=\"https://www.youtube.com/channel/UCJHA_jMfCvEnv-3kRjTCQXw\" target=\"_blank\"><span><i class=\"fa fa-youtube-play\"></i></span></a>\n",
       "</li>\n",
       "<li class=\"external-link\">\n",
       "<a href=\"https://www.facebook.com/BingingWithBabish/\" target=\"_blank\"><span><i class=\"fa fa-facebook\"></i></span></a>\n",
       "</li>\n",
       "<li class=\"external-link\">\n",
       "<a href=\"https://twitter.com/BingingWBabish\" target=\"_blank\"><span><i class=\"fa fa-twitter\"></i></span></a>\n",
       "</li>\n",
       "<li class=\"external-link\">\n",
       "<a href=\"https://www.instagram.com/bingingwithbabish/\" target=\"_blank\"><span><i class=\"fa fa-instagram\"></i></span></a>\n",
       "</li>\n",
       "<li class=\"external-link\">\n",
       "<a href=\"https://www.patreon.com/bingingwithbabish\" target=\"_blank\"><span><i class=\"socicon-patreon\"></i></span></a>\n",
       "</li>\n",
       "</ul>\n",
       "</div>\n",
       "</nav>\n",
       "</div>\n",
       "<div class=\"site-wrapper\" id=\"yui_3_17_2_1_1596821935845_73\">\n",
       "<div class=\"site-inner-wrapper\" id=\"yui_3_17_2_1_1596821935845_72\">\n",
       "<header class=\"sqs-announcement-bar-dropzone\" id=\"header\" style=\"background-color: transparent;\">\n",
       "<div class=\"sqs-cart-dropzone\"></div>\n",
       "<div class=\"title-nav-wrapper\">\n",
       "<h1 class=\"site-title\" data-content-field=\"site-title\">\n",
       "<a href=\"/\" id=\"top\">\n",
       "                \n",
       "                  Binging With Babish\n",
       "                \n",
       "              </a>\n",
       "</h1>\n",
       "<a class=\"icon-menu\" id=\"mobileMenu\"></a>\n",
       "<!--MAIN NAVIGATION-->\n",
       "<div data-annotation-alignment=\"bottom left\" data-content-field=\"navigation-mainNav\" id=\"desktopNav\">\n",
       "<nav class=\"main-nav\">\n",
       "<div class=\"nav-wrapper\">\n",
       "<ul class=\"cf\">\n",
       "<li class=\"index-collection folder\">\n",
       "<a href=\"/\"><span>Home</span></a>\n",
       "</li>\n",
       "<li class=\"blog-collection active-link\">\n",
       "<a href=\"/recipes\"><span>Recipes</span></a>\n",
       "</li>\n",
       "<li class=\"external-link\">\n",
       "<a href=\"http://www.basicswithbabish.com\" target=\"_blank\"><span>Basics</span></a>\n",
       "</li>\n",
       "<li class=\"folders-collection folder\">\n",
       "<!--FOLDER-->\n",
       "<div class=\"folder-parent\">\n",
       "<a aria-haspopup=\"true\"><span>About</span></a>\n",
       "<div class=\"folder-child-wrapper\">\n",
       "<ul class=\"folder-child\">\n",
       "<li class=\"\">\n",
       "<a href=\"/about\">\n",
       "<span>About</span>\n",
       "</a>\n",
       "</li>\n",
       "<li class=\"\">\n",
       "<a href=\"/equipment-list\">\n",
       "<span>Equipment List</span>\n",
       "</a>\n",
       "</li>\n",
       "<li class=\"\">\n",
       "<a href=\"/faqs\">\n",
       "<span>FAQs</span>\n",
       "</a>\n",
       "</li>\n",
       "<li class=\"\">\n",
       "<a href=\"/episode-rankings\">\n",
       "<span>Rankings</span>\n",
       "</a>\n",
       "</li>\n",
       "<li class=\"\">\n",
       "<a href=\"/blog\">\n",
       "<span>Blog</span>\n",
       "</a>\n",
       "</li>\n",
       "</ul>\n",
       "</div>\n",
       "</div>\n",
       "</li>\n",
       "<li class=\"page-collection\">\n",
       "<a href=\"/events\"><span>events</span></a>\n",
       "</li>\n",
       "<li class=\"page-collection\">\n",
       "<a href=\"/cookbook\"><span>Cookbook</span></a>\n",
       "</li>\n",
       "<li class=\"external-link\">\n",
       "<a href=\"http://www.babish.store\"><span>store</span></a>\n",
       "</li>\n",
       "<li class=\"page-collection\">\n",
       "<a href=\"/health-fitness\"><span>Health</span></a>\n",
       "</li>\n",
       "<li class=\"external-link\">\n",
       "<a href=\"https://www.youtube.com/channel/UCJHA_jMfCvEnv-3kRjTCQXw\" target=\"_blank\"><span><i class=\"fa fa-youtube-play\"></i></span></a>\n",
       "</li>\n",
       "<li class=\"external-link\">\n",
       "<a href=\"https://www.facebook.com/BingingWithBabish/\" target=\"_blank\"><span><i class=\"fa fa-facebook\"></i></span></a>\n",
       "</li>\n",
       "<li class=\"external-link\">\n",
       "<a href=\"https://twitter.com/BingingWBabish\" target=\"_blank\"><span><i class=\"fa fa-twitter\"></i></span></a>\n",
       "</li>\n",
       "<li class=\"external-link\">\n",
       "<a href=\"https://www.instagram.com/bingingwithbabish/\" target=\"_blank\"><span><i class=\"fa fa-instagram\"></i></span></a>\n",
       "</li>\n",
       "<li class=\"external-link\">\n",
       "<a href=\"https://www.patreon.com/bingingwithbabish\" target=\"_blank\"><span><i class=\"socicon-patreon\"></i></span></a>\n",
       "</li>\n",
       "</ul>\n",
       "</div>\n",
       "</nav>\n",
       "</div>\n",
       "</div>\n",
       "</header>\n",
       "<div id=\"banner-wrapper\">\n",
       "<div class=\"banner-image content-fill\" id=\"yui_3_17_2_1_1596821935845_148\" style=\"overflow: hidden;\">\n",
       "<img alt=\"Perfect Key Lime Pie inspired by Dexter\" class=\"\" data-image=\"https://static1.squarespace.com/static/590be7fd15d5dbc6bf3e22d0/590bef6f46c3c4d418c28dac/5f20432d2159bb6cf0c5cdcd/1596555425763/Screen+Shot+2020-07-28+at+10.25.44+AM.png\" data-image-dimensions=\"2500x1403\" data-image-focal-point=\"0.5,0.5\" data-image-resolution=\"1500w\" data-parent-ratio=\"1.6\" data-src=\"https://static1.squarespace.com/static/590be7fd15d5dbc6bf3e22d0/590bef6f46c3c4d418c28dac/5f20432d2159bb6cf0c5cdcd/1596555425763/Screen+Shot+2020-07-28+at+10.25.44+AM.png\" src=\"https://static1.squarespace.com/static/590be7fd15d5dbc6bf3e22d0/590bef6f46c3c4d418c28dac/5f20432d2159bb6cf0c5cdcd/1596555425763/Screen+Shot+2020-07-28+at+10.25.44+AM.png?format=1500w\" style=\"font-size: 0px; left: -50.0584px; top: 0px; width: 1012.12px; height: 568px; position: relative; transform: translate3d(0px, 0px, 0px);\"/>\n",
       "<div class=\"image-overlay-wrapper\"></div>\n",
       "</div>\n",
       "<div class=\"title-desc-wrapper has-main-image\" data-content-field=\"main-image\" style=\"padding-top: 156.594px;\">\n",
       "<div class=\"title-desc-inner\" data-collection-id=\"5f20432d2159bb6cf0c5cdcd\">\n",
       "<div class=\"page-title-wrapper\" id=\"yui_3_17_2_1_1596821935845_133\"><h1 class=\"page-title\" data-shrink-original-size=\"72\" style=\"letter-spacing: -0.0138889em;\">\n",
       "                      \n",
       "                        Perfect Key Lime Pie inspired by Dexter\n",
       "                      \n",
       "                    </h1></div>\n",
       "<br/>\n",
       "<div class=\"page-desc\">\n",
       "<p class=\"date entry-author\">\n",
       "<time class=\"published\" datetime=\"2020-07-29\">July 29, 2020</time>\n",
       "<span class=\"author-name\"><br/>\n",
       "<em>by</em> <a href=\"/recipes?author=59a48a3637c581d378e3c825\">Emilija Saxe</a>\n",
       "</span>\n",
       "</p>\n",
       "</div>\n",
       "</div>\n",
       "</div>\n",
       "</div>\n",
       "<section id=\"content-wrapper\">\n",
       "<div class=\"content\" id=\"yui_3_17_2_1_1596821935845_71\">\n",
       "<div class=\"content-inner\" data-content-field=\"main-content\" id=\"yui_3_17_2_1_1596821935845_70\">\n",
       "<section class=\"blog-item\" id=\"yui_3_17_2_1_1596821935845_69\">\n",
       "<article class=\"entry hentry tag-binging-with-babish tag-key-lime-pie tag-dexter tag-dexter-key-lime-pie author-emilija-saxe post-type-text clear\" data-item-id=\"5f20432d2159bb6cf0c5cdcd\" id=\"article-5f20432d2159bb6cf0c5cdcd\">\n",
       "<!--       <div class=\"entry-title-wrapper\">\n",
       "        <h1 data-content-field=\"title\" class=\"entry-title\">Perfect Key Lime Pie inspired by Dexter</h1>\n",
       "      </div> -->\n",
       "<div class=\"entry-content\" id=\"yui_3_17_2_1_1596821935845_68\">\n",
       "<div class=\"sqs-layout sqs-grid-12 columns-12\" data-layout-label=\"Post Body\" data-type=\"item\" data-updated-on=\"1595950197806\" id=\"item-5f20432d2159bb6cf0c5cdcd\"><div class=\"row sqs-row\" id=\"yui_3_17_2_1_1596821935845_67\"><div class=\"col sqs-col-12 span-12\" id=\"yui_3_17_2_1_1596821935845_66\"><div class=\"sqs-block html-block sqs-block-html\" data-block-type=\"2\" id=\"block-007e58b792517bf14902\"><div class=\"sqs-block-content\"><h2 style=\"white-space:pre-wrap;\">In a fan-favorite episode, Dexter Morgan takes a break from his close-up, slow-motion morning routine to kill a friend in need. But he can't saran-wrap her to a table and scalpel her cheek like any other Monday, he's gotta be nice about it, so he finds the best key lime pie in Miami and pumps it full of night-night juice. I've heard of humble pie but this is ridiculous! Sorry.</h2></div></div><div class=\"sqs-block image-block sqs-block-image sqs-text-ready\" data-block-type=\"5\" id=\"block-ee255265d0e81d4885a2\"><div class=\"sqs-block-content\" id=\"yui_3_17_2_1_1596821935845_65\">\n",
       "<div class=\"image-block-outer-wrapper layout-caption-hidden design-layout-inline combination-animation-none individual-animation-none individual-text-animation-none\" data-test=\"image-block-inline-outer-wrapper\" id=\"yui_3_17_2_1_1596821935845_64\">\n",
       "<figure class=\"sqs-block-image-figure intrinsic\" id=\"yui_3_17_2_1_1596821935845_63\" style=\"max-width:2500.0px;\">\n",
       "<a class=\"sqs-block-image-link\" href=\"https://www.youtube.com/watch?feature=youtu.be&amp;v=UOztOU4T-_c\" id=\"yui_3_17_2_1_1596821935845_62\">\n",
       "<div class=\"image-block-wrapper has-aspect-ratio\" data-animation-role=\"image\" id=\"yui_3_17_2_1_1596821935845_61\" style=\"padding-bottom: 56.12%; overflow: hidden;\">\n",
       "<noscript><img alt=\"Screen Shot 2020-07-28 at 10.25.44 AM.png\" src=\"https://images.squarespace-cdn.com/content/v1/590be7fd15d5dbc6bf3e22d0/1595950000314-G0GDNXWDIBTXMO602CMG/ke17ZwdGBToddI8pDm48kAedfw09QJRoapqXj6FRlF57gQa3H78H3Y0txjaiv_0fDoOvxcdMmMKkDsyUqMSsMWxHk725yiiHCCLfrh8O1z4YTzHvnKhyp6Da-NYroOW3ZGjoBKy3azqku80C789l0hrcuUIk6TmQDDF8MLSoacFW8frBQVSNHWVBixTXdMk57t9cw5e9xAHTqhsSxmo6Wg/Screen+Shot+2020-07-28+at+10.25.44+AM.png\"/></noscript><img alt=\"Screen Shot 2020-07-28 at 10.25.44 AM.png\" class=\"thumb-image loaded\" data-image=\"https://images.squarespace-cdn.com/content/v1/590be7fd15d5dbc6bf3e22d0/1595950000314-G0GDNXWDIBTXMO602CMG/ke17ZwdGBToddI8pDm48kAedfw09QJRoapqXj6FRlF57gQa3H78H3Y0txjaiv_0fDoOvxcdMmMKkDsyUqMSsMWxHk725yiiHCCLfrh8O1z4YTzHvnKhyp6Da-NYroOW3ZGjoBKy3azqku80C789l0hrcuUIk6TmQDDF8MLSoacFW8frBQVSNHWVBixTXdMk57t9cw5e9xAHTqhsSxmo6Wg/Screen+Shot+2020-07-28+at+10.25.44+AM.png\" data-image-dimensions=\"2500x1403\" data-image-focal-point=\"0.5,0.5\" data-image-id=\"5f20439ba4c75f023c187119\" data-image-resolution=\"1000w\" data-load=\"false\" data-src=\"https://images.squarespace-cdn.com/content/v1/590be7fd15d5dbc6bf3e22d0/1595950000314-G0GDNXWDIBTXMO602CMG/ke17ZwdGBToddI8pDm48kAedfw09QJRoapqXj6FRlF57gQa3H78H3Y0txjaiv_0fDoOvxcdMmMKkDsyUqMSsMWxHk725yiiHCCLfrh8O1z4YTzHvnKhyp6Da-NYroOW3ZGjoBKy3azqku80C789l0hrcuUIk6TmQDDF8MLSoacFW8frBQVSNHWVBixTXdMk57t9cw5e9xAHTqhsSxmo6Wg/Screen+Shot+2020-07-28+at+10.25.44+AM.png\" data-type=\"image\" src=\"https://images.squarespace-cdn.com/content/v1/590be7fd15d5dbc6bf3e22d0/1595950000314-G0GDNXWDIBTXMO602CMG/ke17ZwdGBToddI8pDm48kAedfw09QJRoapqXj6FRlF57gQa3H78H3Y0txjaiv_0fDoOvxcdMmMKkDsyUqMSsMWxHk725yiiHCCLfrh8O1z4YTzHvnKhyp6Da-NYroOW3ZGjoBKy3azqku80C789l0hrcuUIk6TmQDDF8MLSoacFW8frBQVSNHWVBixTXdMk57t9cw5e9xAHTqhsSxmo6Wg/Screen+Shot+2020-07-28+at+10.25.44+AM.png?format=1000w\" style=\"left: -0.0140505%; top: 0%; width: 100.028%; height: 100%; position: absolute;\"/>\n",
       "</div>\n",
       "</a>\n",
       "</figure>\n",
       "</div>\n",
       "</div></div><div class=\"sqs-block spacer-block sqs-block-spacer sized vsize-1\" data-aspect-ratio=\"2.8125\" data-block-type=\"21\" id=\"block-67c2f3a6f79248e008c3\"><div class=\"sqs-block-content sqs-intrinsic\" id=\"yui_3_17_2_1_1596821935845_89\" style=\"padding-bottom: 2.8125%;\"> </div></div><div class=\"row sqs-row\"><div class=\"col sqs-col-5 span-5\"><div class=\"sqs-block html-block sqs-block-html\" data-block-type=\"2\" id=\"block-c84c21bf924193c29cf2\"><div class=\"sqs-block-content\"><h3 style=\"margin-left:40px;white-space:pre-wrap;\">Ingredients</h3><p class=\"\" style=\"white-space:pre-wrap;\"><strong>Key Lime Pie Ingredients:</strong></p><ul data-rte-list=\"default\"><li><p class=\"\" style=\"white-space:pre-wrap;\">⅔ cup key lime juice (15-30 key limes)</p></li><li><p class=\"\" style=\"white-space:pre-wrap;\">1 ½ packs graham crackers </p></li><li><p class=\"\" style=\"white-space:pre-wrap;\">40 g powdered sugar</p></li><li><p class=\"\" style=\"white-space:pre-wrap;\">Kosher salt</p></li><li><p class=\"\" style=\"white-space:pre-wrap;\">100 g unsalted butter, melted</p></li><li><p class=\"\" style=\"white-space:pre-wrap;\">3 egg yolks</p></li><li><p class=\"\" style=\"white-space:pre-wrap;\">1 large lime, zested</p></li><li><p class=\"\" style=\"white-space:pre-wrap;\">14 oz can sweetened condensed milk</p></li><li><p class=\"\" style=\"white-space:pre-wrap;\">1 pint heavy cream</p></li><li><p class=\"\" style=\"white-space:pre-wrap;\">2 Tbsp sugar</p></li><li><p class=\"\" style=\"white-space:pre-wrap;\">Vanilla extract</p></li></ul></div></div></div><div class=\"col sqs-col-7 span-7\"><div class=\"sqs-block html-block sqs-block-html\" data-block-type=\"2\" id=\"block-ab4a9ef84cf28e13c57b\"><div class=\"sqs-block-content\"><h1 style=\"margin-left:40px;white-space:pre-wrap;\">Method</h1><p class=\"\" style=\"white-space:pre-wrap;\"><strong>Key Lime Pie Method:</strong></p><ol data-rte-list=\"default\"><li><p class=\"\" style=\"white-space:pre-wrap;\">Start by juicing ⅔ cup of key lime juice (15-30 key limes) and set aside. </p></li><li><p class=\"\" style=\"white-space:pre-wrap;\">Add 1 ½ pack of graham crackers to a food processor and pulse into a fine graham cracker dust. </p></li><li><p class=\"\" style=\"white-space:pre-wrap;\">After pulsed to dust, measure out about 200 grams worth of graham crackers dust. Add in 40 grams of powdered sugar (or regular sugar, just measure out the same amount) and a pinch of kosher salt. Whisk together until thoroughly combined. Make sure to crush any bits of powdered sugar. </p></li><li><p class=\"\" style=\"white-space:pre-wrap;\">Add 100 grams of melted unsalted butter and gently mix together using a rubber spatula and fingers combo until the graham crackers crumbs are evenly saturated and keep their shape when pressed together, but still crumbly like wet sand. </p></li><li><p class=\"\" style=\"white-space:pre-wrap;\">Dump into an unprepared pie plate and gently press them into all the corners and up the sides of the plate then using a ramekin to make sure everything is round and compacted.  </p></li><li><p class=\"\" style=\"white-space:pre-wrap;\">Place the pie crust into a 325°F for 15 minutes before being removed and cooled completely on a wire rack. </p></li><li><p class=\"\" style=\"white-space:pre-wrap;\">For the curd, into the bowl of a stand mixer goes 3 egg yolks separated from their whites with the zest of 1 large lime (or 3 key limes). Fix with a wire whisk to the stand mixer and beat the egg yolks for about 3 minutes on high speed.   </p></li><li><p class=\"\" style=\"white-space:pre-wrap;\">Add in a 14 oz can of sweetened condensed milk. Beat this together with the egg yolks using a paddle attachment on medium-high speed for about 5 minutes until it is lightly pale and slightly thickened. </p></li><li><p class=\"\" style=\"white-space:pre-wrap;\">At this point, slowly add in the ⅔ cup of lime juice while the mixer is running on low and mix until just combined (thickened from the lime juice acid) then give it a couple of folds using a rubber spatula, cover with plastic wrap and let rest at room temperature for 30 minutes. </p></li><li><p class=\"\" style=\"white-space:pre-wrap;\">After 30 minutes, pour the filling into the pie crust. Don’t worry if it looks a little low, it will expand in the oven. Give it a little wiggle to make sure it’s evenly dispersed. </p></li><li><p class=\"\" style=\"white-space:pre-wrap;\">Place it into a 325°F oven for about 25 minutes until set around the edges and register a temperature of 145°F in the center. </p></li><li><p class=\"\" style=\"white-space:pre-wrap;\">Let it cool at room temperature for about 2 hours. After this, cover with plastic wrap and place in the fridge for 4 hours. </p></li><li><p class=\"\" style=\"white-space:pre-wrap;\">For the whipped cream, mix together a pint of heavy cream, 2 tablespoons of sugar, and a dash of vanilla extract and beat until stiff peaks form. </p></li><li><p class=\"\" style=\"white-space:pre-wrap;\">Dump it into a pastry bag with a fancy tip and begin trying to decorate the fully cooled pie from the fridge. Garnish with slices of key limes and a generous zesting of key lime zest. </p></li></ol></div></div></div></div></div></div></div>\n",
       "<p class=\"entry-actions\">\n",
       "<span class=\"sqs-simple-like\" data-item-id=\"5f20432d2159bb6cf0c5cdcd\" data-like-count=\"23\" id=\"yui_3_17_2_1_1596821935845_462\">\n",
       "<span class=\"like-icon\"></span>\n",
       "<span class=\"like-count\">23 Likes</span>\n",
       "</span>\n",
       "<span class=\"squarespace-social-buttons inline-style\" data-asset-url=\"https://static1.squarespace.com/static/590be7fd15d5dbc6bf3e22d0/590bef6f46c3c4d418c28dac/5f20432d2159bb6cf0c5cdcd/1596555425763/Screen+Shot+2020-07-28+at+10.25.44+AM.png\" data-full-url=\"/recipes/dexter-key-lime-pie\" data-record-type=\"1\" data-system-data-id=\"1595950088285-7OK6BEO38H4MIXTZ3VVZ\" data-title=\"Perfect Key Lime Pie inspired by Dexter\"><div class=\"yui3-widget yui3-socialbutton\" id=\"social-yui_3_17_2_1_1596821935845_393\"><div class=\"yui3-socialbutton-content\" id=\"yui_3_17_2_1_1596821935845_398\"><div class=\"ss-social-button-wrapper\"><div class=\"ss-social-button\"><span class=\"ss-social-button-icon\"></span>Share</div></div><div class=\"ss-social-list-wrapper\"><div class=\"ss-social-button-list\"></div></div></div></div></span>\n",
       "</p>\n",
       "</div>\n",
       "</article>\n",
       "</section>\n",
       "</div>\n",
       "<footer class=\"entry-footer clear\">\n",
       "<div class=\"outer-wrapper\">\n",
       "<div class=\"wrapper\">\n",
       "<div class=\"entry-meta\">\n",
       "<div><em>tagged with</em> <a href=\"/recipes?tag=binging+with+babish\" rel=\"tag\">binging with babish</a>, <a href=\"/recipes?tag=key+lime+pie\" rel=\"tag\">key lime pie</a>, <a href=\"/recipes?tag=dexter\" rel=\"tag\">dexter</a>, <a href=\"/recipes?tag=dexter+key+lime+pie\" rel=\"tag\">dexter key lime pie</a></div>\n",
       "</div>\n",
       "<nav class=\"pagination cf\">\n",
       "<div class=\"newer\"><a href=\"/recipes/avatar-fire-flakes\">Newer</a></div>\n",
       "<div class=\"older\"><a href=\"/recipes/sundae-spongebob\">Older</a></div>\n",
       "</nav>\n",
       "</div>\n",
       "</div>\n",
       "</footer>\n",
       "</div>\n",
       "</section>\n",
       "<!--FOOTER WITH OPEN BLOCK FIELD-->\n",
       "<footer id=\"footer\">\n",
       "<div class=\"back-to-top-link\"><a href=\"#top\"><span class=\"arrow\"></span>Top</a></div>\n",
       "<div class=\"footer-wrapper\" id=\"yui_3_17_2_1_1596821935845_152\">\n",
       "<div data-content-field=\"navigation-secondaryNav\" id=\"secondaryNav\">\n",
       "</div>\n",
       "<div class=\"sqs-layout sqs-grid-12 columns-12\" data-layout-label=\"Footer Content\" data-type=\"block-field\" data-updated-on=\"1584981620331\" id=\"footerBlocks\"><div class=\"row sqs-row\" id=\"yui_3_17_2_1_1596821935845_327\"><div class=\"col sqs-col-12 span-12\" id=\"yui_3_17_2_1_1596821935845_326\"><div class=\"sqs-block spacer-block sqs-block-spacer\" data-aspect-ratio=\"2.238209432454037\" data-block-type=\"21\" id=\"block-yui_3_17_2_6_1493965084196_7449\"><div class=\"sqs-block-content sqs-intrinsic\" id=\"yui_3_17_2_1_1596821935845_92\" style=\"padding-bottom: 2.23821%;\"> </div></div><div class=\"sqs-block instagram-block sqs-block-instagram\" data-block-json='{\"title\":true,\"thumbnail\":true,\"excerpt\":true,\"pageSize\":8,\"filter\":{},\"hSize\":null,\"floatDir\":null,\"pageCollectionId\":null,\"containingItemId\":null,\"connectedAccountId\":\"590c0d0215d5dbc6bf3fa8e8\",\"enable-search\":false,\"enable-search-disabled\":null,\"socialCollectionId\":\"\",\"previewCollectionId\":\"\",\"status\":\"undefined\",\"searchId\":\"undefined\",\"searchTerm\":\"\",\"refresh\":null,\"newWindow\":false,\"unsafeSearch\":null,\"aspect-ratio\":\"square\",\"aspectRatio\":null,\"auto-crop\":true,\"blockAnimation\":\"none\",\"collectionId\":\"590c0d0215d5dbc6bf3fa8e8\",\"design\":\"grid\",\"lightbox\":true,\"lightboxTheme\":\"dark\",\"padding\":0,\"show-meta\":true,\"show-meta-basic\":true,\"show-meta-only-title\":false,\"show-meta-only-description\":false,\"square-thumbs\":true,\"thumbnails-per-row\":8,\"vSize\":null}' data-block-type=\"25\" id=\"block-yui_3_17_2_1_1543872535949_17545\"><div class=\"sqs-block-content\" id=\"yui_3_17_2_1_1596821935845_325\">\n",
       "<div class=\"sqs-gallery-container sqs-gallery-block-grid sqs-gallery-aspect-ratio-square sqs-gallery-thumbnails-per-row-8 sqs-gallery-block-show-meta block-animation-none clear\" data-async-rendering-enabled=\"true\" id=\"yui_3_17_2_1_1596821935845_158\">\n",
       "<div class=\"sqs-gallery sqs-gallery-design-grid\" id=\"yui_3_17_2_1_1596821935845_175\">\n",
       "<div class=\"slide sqs-gallery-design-grid-slide\" data-animation-role=\"image\" data-type=\"image\" id=\"yui_3_17_2_1_1596821935845_214\">\n",
       "<div class=\"margin-wrapper\">\n",
       "<a class=\"image-slide-anchor js-gallery-lightbox-opener content-fill\" data-description=\"(My new) Backyard with Babish! New summer grilling show, yay or nay?\" data-lightbox-theme=\"dark\" data-title=\"\" href=\"https://images.squarespace-cdn.com/content/v1/590be7fd15d5dbc6bf3e22d0/1587831132631-A2MQ8LQGGI9VUJGIDLOW/ke17ZwdGBToddI8pDm48kEpVg-ILAPna1wRh-xAJ9fRZw-zPPgdn4jUwVcJE1ZvWQUxwkmyExglNqGp0IvTJZUJFbgE-7XRK3dMEBRBhUpwEv36x-EUL2-BSQ5feDhwGCbXuJBFqZ-erYzVouT8yOb9TwqchglLQOCYTRn7ZGxI/image-asset.jpeg\" role=\"button\" style=\"overflow: hidden;\">\n",
       "<span class=\"v6-visually-hidden\">View fullsize</span>\n",
       "<noscript><img alt=\"(My new) Backyard with Babish! New summer grilling show, yay or nay?\" src=\"https://images.squarespace-cdn.com/content/v1/590be7fd15d5dbc6bf3e22d0/1587831132631-A2MQ8LQGGI9VUJGIDLOW/ke17ZwdGBToddI8pDm48kEpVg-ILAPna1wRh-xAJ9fRZw-zPPgdn4jUwVcJE1ZvWQUxwkmyExglNqGp0IvTJZUJFbgE-7XRK3dMEBRBhUpwEv36x-EUL2-BSQ5feDhwGCbXuJBFqZ-erYzVouT8yOb9TwqchglLQOCYTRn7ZGxI/image-asset.jpeg\"/></noscript><img alt=\"(My new) Backyard with Babish! New summer grilling show, yay or nay?\" class=\"thumb-image loaded\" data-image=\"https://images.squarespace-cdn.com/content/v1/590be7fd15d5dbc6bf3e22d0/1587831132631-A2MQ8LQGGI9VUJGIDLOW/ke17ZwdGBToddI8pDm48kEpVg-ILAPna1wRh-xAJ9fRZw-zPPgdn4jUwVcJE1ZvWQUxwkmyExglNqGp0IvTJZUJFbgE-7XRK3dMEBRBhUpwEv36x-EUL2-BSQ5feDhwGCbXuJBFqZ-erYzVouT8yOb9TwqchglLQOCYTRn7ZGxI/image-asset.jpeg\" data-image-dimensions=\"640x640\" data-image-focal-point=\"0.5,0.5\" data-image-id=\"5ea4615b3c30fb3c0a22b360\" data-image-resolution=\"300w\" data-load=\"false\" data-parent-ratio=\"1.0\" data-src=\"https://images.squarespace-cdn.com/content/v1/590be7fd15d5dbc6bf3e22d0/1587831132631-A2MQ8LQGGI9VUJGIDLOW/ke17ZwdGBToddI8pDm48kEpVg-ILAPna1wRh-xAJ9fRZw-zPPgdn4jUwVcJE1ZvWQUxwkmyExglNqGp0IvTJZUJFbgE-7XRK3dMEBRBhUpwEv36x-EUL2-BSQ5feDhwGCbXuJBFqZ-erYzVouT8yOb9TwqchglLQOCYTRn7ZGxI/image-asset.jpeg\" data-type=\"image\" src=\"https://images.squarespace-cdn.com/content/v1/590be7fd15d5dbc6bf3e22d0/1587831132631-A2MQ8LQGGI9VUJGIDLOW/ke17ZwdGBToddI8pDm48kEpVg-ILAPna1wRh-xAJ9fRZw-zPPgdn4jUwVcJE1ZvWQUxwkmyExglNqGp0IvTJZUJFbgE-7XRK3dMEBRBhUpwEv36x-EUL2-BSQ5feDhwGCbXuJBFqZ-erYzVouT8yOb9TwqchglLQOCYTRn7ZGxI/image-asset.jpeg?format=300w\" style=\"opacity: 0; left: 0px; top: 0px; width: 114px; height: 114px; position: relative;\"/>\n",
       "</a>\n",
       "</div>\n",
       "</div>\n",
       "<div class=\"slide sqs-gallery-design-grid-slide\" data-animation-role=\"image\" data-type=\"image\" id=\"yui_3_17_2_1_1596821935845_215\">\n",
       "<div class=\"margin-wrapper\">\n",
       "<a class=\"image-slide-anchor js-gallery-lightbox-opener content-fill\" data-description=\"Happy Friday cocktails delivered by @57_bohemian - support your favorite restaurants this weekend!!\" data-lightbox-theme=\"dark\" data-title=\"\" href=\"https://images.squarespace-cdn.com/content/v1/590be7fd15d5dbc6bf3e22d0/1587750601843-JEESLU6MVPS3OK89PQ8I/ke17ZwdGBToddI8pDm48kEpVg-ILAPna1wRh-xAJ9fRZw-zPPgdn4jUwVcJE1ZvWQUxwkmyExglNqGp0IvTJZUJFbgE-7XRK3dMEBRBhUpwEv36x-EUL2-BSQ5feDhwGCbXuJBFqZ-erYzVouT8yOb9TwqchglLQOCYTRn7ZGxI/image-asset.jpeg\" role=\"button\" style=\"overflow: hidden;\">\n",
       "<span class=\"v6-visually-hidden\">View fullsize</span>\n",
       "<noscript><img alt=\"Happy Friday cocktails delivered by @57_bohemian - support your favorite restaurants this weekend!!\" src=\"https://images.squarespace-cdn.com/content/v1/590be7fd15d5dbc6bf3e22d0/1587750601843-JEESLU6MVPS3OK89PQ8I/ke17ZwdGBToddI8pDm48kEpVg-ILAPna1wRh-xAJ9fRZw-zPPgdn4jUwVcJE1ZvWQUxwkmyExglNqGp0IvTJZUJFbgE-7XRK3dMEBRBhUpwEv36x-EUL2-BSQ5feDhwGCbXuJBFqZ-erYzVouT8yOb9TwqchglLQOCYTRn7ZGxI/image-asset.jpeg\"/></noscript><img alt=\"Happy Friday cocktails delivered by @57_bohemian - support your favorite restaurants this weekend!!\" class=\"thumb-image loaded\" data-image=\"https://images.squarespace-cdn.com/content/v1/590be7fd15d5dbc6bf3e22d0/1587750601843-JEESLU6MVPS3OK89PQ8I/ke17ZwdGBToddI8pDm48kEpVg-ILAPna1wRh-xAJ9fRZw-zPPgdn4jUwVcJE1ZvWQUxwkmyExglNqGp0IvTJZUJFbgE-7XRK3dMEBRBhUpwEv36x-EUL2-BSQ5feDhwGCbXuJBFqZ-erYzVouT8yOb9TwqchglLQOCYTRn7ZGxI/image-asset.jpeg\" data-image-dimensions=\"640x640\" data-image-focal-point=\"0.5,0.5\" data-image-id=\"5ea326c921254909871202c0\" data-image-resolution=\"300w\" data-load=\"false\" data-parent-ratio=\"1.0\" data-src=\"https://images.squarespace-cdn.com/content/v1/590be7fd15d5dbc6bf3e22d0/1587750601843-JEESLU6MVPS3OK89PQ8I/ke17ZwdGBToddI8pDm48kEpVg-ILAPna1wRh-xAJ9fRZw-zPPgdn4jUwVcJE1ZvWQUxwkmyExglNqGp0IvTJZUJFbgE-7XRK3dMEBRBhUpwEv36x-EUL2-BSQ5feDhwGCbXuJBFqZ-erYzVouT8yOb9TwqchglLQOCYTRn7ZGxI/image-asset.jpeg\" data-type=\"image\" src=\"https://images.squarespace-cdn.com/content/v1/590be7fd15d5dbc6bf3e22d0/1587750601843-JEESLU6MVPS3OK89PQ8I/ke17ZwdGBToddI8pDm48kEpVg-ILAPna1wRh-xAJ9fRZw-zPPgdn4jUwVcJE1ZvWQUxwkmyExglNqGp0IvTJZUJFbgE-7XRK3dMEBRBhUpwEv36x-EUL2-BSQ5feDhwGCbXuJBFqZ-erYzVouT8yOb9TwqchglLQOCYTRn7ZGxI/image-asset.jpeg?format=300w\" style=\"opacity: 0; left: 0px; top: 0px; width: 114px; height: 114px; position: relative;\"/>\n",
       "</a>\n",
       "</div>\n",
       "</div>\n",
       "<div class=\"slide sqs-gallery-design-grid-slide\" data-animation-role=\"image\" data-type=\"image\" id=\"yui_3_17_2_1_1596821935845_216\">\n",
       "<div class=\"margin-wrapper\">\n",
       "<a class=\"image-slide-anchor js-gallery-lightbox-opener content-fill\" data-description=\"Ice cream sammies are live! Link in bio!\" data-lightbox-theme=\"dark\" data-title=\"\" href=\"https://images.squarespace-cdn.com/content/v1/590be7fd15d5dbc6bf3e22d0/1587659847645-JN1Z1Z105VQIWOG64Y79/ke17ZwdGBToddI8pDm48kEpVg-ILAPna1wRh-xAJ9fRZw-zPPgdn4jUwVcJE1ZvWQUxwkmyExglNqGp0IvTJZUJFbgE-7XRK3dMEBRBhUpwEv36x-EUL2-BSQ5feDhwGCbXuJBFqZ-erYzVouT8yOb9TwqchglLQOCYTRn7ZGxI/image-asset.jpeg\" role=\"button\" style=\"overflow: hidden;\">\n",
       "<span class=\"v6-visually-hidden\">View fullsize</span>\n",
       "<noscript><img alt=\"Ice cream sammies are live! Link in bio!\" src=\"https://images.squarespace-cdn.com/content/v1/590be7fd15d5dbc6bf3e22d0/1587659847645-JN1Z1Z105VQIWOG64Y79/ke17ZwdGBToddI8pDm48kEpVg-ILAPna1wRh-xAJ9fRZw-zPPgdn4jUwVcJE1ZvWQUxwkmyExglNqGp0IvTJZUJFbgE-7XRK3dMEBRBhUpwEv36x-EUL2-BSQ5feDhwGCbXuJBFqZ-erYzVouT8yOb9TwqchglLQOCYTRn7ZGxI/image-asset.jpeg\"/></noscript><img alt=\"Ice cream sammies are live! Link in bio!\" class=\"thumb-image loaded\" data-image=\"https://images.squarespace-cdn.com/content/v1/590be7fd15d5dbc6bf3e22d0/1587659847645-JN1Z1Z105VQIWOG64Y79/ke17ZwdGBToddI8pDm48kEpVg-ILAPna1wRh-xAJ9fRZw-zPPgdn4jUwVcJE1ZvWQUxwkmyExglNqGp0IvTJZUJFbgE-7XRK3dMEBRBhUpwEv36x-EUL2-BSQ5feDhwGCbXuJBFqZ-erYzVouT8yOb9TwqchglLQOCYTRn7ZGxI/image-asset.jpeg\" data-image-dimensions=\"640x640\" data-image-focal-point=\"0.5,0.5\" data-image-id=\"5ea1c446efc1c8789d9d5219\" data-image-resolution=\"300w\" data-load=\"false\" data-parent-ratio=\"1.0\" data-src=\"https://images.squarespace-cdn.com/content/v1/590be7fd15d5dbc6bf3e22d0/1587659847645-JN1Z1Z105VQIWOG64Y79/ke17ZwdGBToddI8pDm48kEpVg-ILAPna1wRh-xAJ9fRZw-zPPgdn4jUwVcJE1ZvWQUxwkmyExglNqGp0IvTJZUJFbgE-7XRK3dMEBRBhUpwEv36x-EUL2-BSQ5feDhwGCbXuJBFqZ-erYzVouT8yOb9TwqchglLQOCYTRn7ZGxI/image-asset.jpeg\" data-type=\"image\" src=\"https://images.squarespace-cdn.com/content/v1/590be7fd15d5dbc6bf3e22d0/1587659847645-JN1Z1Z105VQIWOG64Y79/ke17ZwdGBToddI8pDm48kEpVg-ILAPna1wRh-xAJ9fRZw-zPPgdn4jUwVcJE1ZvWQUxwkmyExglNqGp0IvTJZUJFbgE-7XRK3dMEBRBhUpwEv36x-EUL2-BSQ5feDhwGCbXuJBFqZ-erYzVouT8yOb9TwqchglLQOCYTRn7ZGxI/image-asset.jpeg?format=300w\" style=\"opacity: 0; left: 0px; top: 0px; width: 114px; height: 114px; position: relative;\"/>\n",
       "</a>\n",
       "</div>\n",
       "</div>\n",
       "<div class=\"slide sqs-gallery-design-grid-slide\" data-animation-role=\"image\" data-type=\"image\" id=\"yui_3_17_2_1_1596821935845_217\">\n",
       "<div class=\"margin-wrapper\">\n",
       "<a class=\"image-slide-anchor js-gallery-lightbox-opener content-fill\" data-description=\"GQ 10 Essentials interview just went up - link in bio! Let’s talk watches, undies and antidepressants!\" data-lightbox-theme=\"dark\" data-title=\"\" href=\"https://images.squarespace-cdn.com/content/v1/590be7fd15d5dbc6bf3e22d0/1587574515646-NM7FXLTFQNANLP0QYB7M/ke17ZwdGBToddI8pDm48kEpVg-ILAPna1wRh-xAJ9fRZw-zPPgdn4jUwVcJE1ZvWQUxwkmyExglNqGp0IvTJZUJFbgE-7XRK3dMEBRBhUpwEv36x-EUL2-BSQ5feDhwGCbXuJBFqZ-erYzVouT8yOb9TwqchglLQOCYTRn7ZGxI/image-asset.jpeg\" role=\"button\" style=\"overflow: hidden;\">\n",
       "<span class=\"v6-visually-hidden\">View fullsize</span>\n",
       "<noscript><img alt=\"GQ 10 Essentials interview just went up - link in bio! Let’s talk watches, undies and antidepressants!\" src=\"https://images.squarespace-cdn.com/content/v1/590be7fd15d5dbc6bf3e22d0/1587574515646-NM7FXLTFQNANLP0QYB7M/ke17ZwdGBToddI8pDm48kEpVg-ILAPna1wRh-xAJ9fRZw-zPPgdn4jUwVcJE1ZvWQUxwkmyExglNqGp0IvTJZUJFbgE-7XRK3dMEBRBhUpwEv36x-EUL2-BSQ5feDhwGCbXuJBFqZ-erYzVouT8yOb9TwqchglLQOCYTRn7ZGxI/image-asset.jpeg\"/></noscript><img alt=\"GQ 10 Essentials interview just went up - link in bio! Let’s talk watches, undies and antidepressants!\" class=\"thumb-image loaded\" data-image=\"https://images.squarespace-cdn.com/content/v1/590be7fd15d5dbc6bf3e22d0/1587574515646-NM7FXLTFQNANLP0QYB7M/ke17ZwdGBToddI8pDm48kEpVg-ILAPna1wRh-xAJ9fRZw-zPPgdn4jUwVcJE1ZvWQUxwkmyExglNqGp0IvTJZUJFbgE-7XRK3dMEBRBhUpwEv36x-EUL2-BSQ5feDhwGCbXuJBFqZ-erYzVouT8yOb9TwqchglLQOCYTRn7ZGxI/image-asset.jpeg\" data-image-dimensions=\"640x640\" data-image-focal-point=\"0.5,0.5\" data-image-id=\"5ea076f2212a52701707bc43\" data-image-resolution=\"300w\" data-load=\"false\" data-parent-ratio=\"1.0\" data-src=\"https://images.squarespace-cdn.com/content/v1/590be7fd15d5dbc6bf3e22d0/1587574515646-NM7FXLTFQNANLP0QYB7M/ke17ZwdGBToddI8pDm48kEpVg-ILAPna1wRh-xAJ9fRZw-zPPgdn4jUwVcJE1ZvWQUxwkmyExglNqGp0IvTJZUJFbgE-7XRK3dMEBRBhUpwEv36x-EUL2-BSQ5feDhwGCbXuJBFqZ-erYzVouT8yOb9TwqchglLQOCYTRn7ZGxI/image-asset.jpeg\" data-type=\"image\" src=\"https://images.squarespace-cdn.com/content/v1/590be7fd15d5dbc6bf3e22d0/1587574515646-NM7FXLTFQNANLP0QYB7M/ke17ZwdGBToddI8pDm48kEpVg-ILAPna1wRh-xAJ9fRZw-zPPgdn4jUwVcJE1ZvWQUxwkmyExglNqGp0IvTJZUJFbgE-7XRK3dMEBRBhUpwEv36x-EUL2-BSQ5feDhwGCbXuJBFqZ-erYzVouT8yOb9TwqchglLQOCYTRn7ZGxI/image-asset.jpeg?format=300w\" style=\"opacity: 0; left: 0px; top: 0px; width: 114px; height: 114px; position: relative;\"/>\n",
       "</a>\n",
       "</div>\n",
       "</div>\n",
       "<div class=\"slide sqs-gallery-design-grid-slide\" data-animation-role=\"image\" data-type=\"image\" id=\"yui_3_17_2_1_1596821935845_218\">\n",
       "<div class=\"margin-wrapper\">\n",
       "<a class=\"image-slide-anchor js-gallery-lightbox-opener content-fill\" data-description=\"Homemade mozzarella is easier(ish) than I thought! Link in bio\" data-lightbox-theme=\"dark\" data-title=\"\" href=\"https://images.squarespace-cdn.com/content/v1/590be7fd15d5dbc6bf3e22d0/1587491227056-AWVLA92JIGORGJLCMF8L/ke17ZwdGBToddI8pDm48kEpVg-ILAPna1wRh-xAJ9fRZw-zPPgdn4jUwVcJE1ZvWQUxwkmyExglNqGp0IvTJZUJFbgE-7XRK3dMEBRBhUpwEv36x-EUL2-BSQ5feDhwGCbXuJBFqZ-erYzVouT8yOb9TwqchglLQOCYTRn7ZGxI/image-asset.jpeg\" role=\"button\" style=\"overflow: hidden;\">\n",
       "<span class=\"v6-visually-hidden\">View fullsize</span>\n",
       "<noscript><img alt=\"Homemade mozzarella is easier(ish) than I thought! Link in bio\" src=\"https://images.squarespace-cdn.com/content/v1/590be7fd15d5dbc6bf3e22d0/1587491227056-AWVLA92JIGORGJLCMF8L/ke17ZwdGBToddI8pDm48kEpVg-ILAPna1wRh-xAJ9fRZw-zPPgdn4jUwVcJE1ZvWQUxwkmyExglNqGp0IvTJZUJFbgE-7XRK3dMEBRBhUpwEv36x-EUL2-BSQ5feDhwGCbXuJBFqZ-erYzVouT8yOb9TwqchglLQOCYTRn7ZGxI/image-asset.jpeg\"/></noscript><img alt=\"Homemade mozzarella is easier(ish) than I thought! Link in bio\" class=\"thumb-image loaded\" data-image=\"https://images.squarespace-cdn.com/content/v1/590be7fd15d5dbc6bf3e22d0/1587491227056-AWVLA92JIGORGJLCMF8L/ke17ZwdGBToddI8pDm48kEpVg-ILAPna1wRh-xAJ9fRZw-zPPgdn4jUwVcJE1ZvWQUxwkmyExglNqGp0IvTJZUJFbgE-7XRK3dMEBRBhUpwEv36x-EUL2-BSQ5feDhwGCbXuJBFqZ-erYzVouT8yOb9TwqchglLQOCYTRn7ZGxI/image-asset.jpeg\" data-image-dimensions=\"640x640\" data-image-focal-point=\"0.5,0.5\" data-image-id=\"5e9f319ae01ff112402dfd78\" data-image-resolution=\"300w\" data-load=\"false\" data-parent-ratio=\"1.0\" data-src=\"https://images.squarespace-cdn.com/content/v1/590be7fd15d5dbc6bf3e22d0/1587491227056-AWVLA92JIGORGJLCMF8L/ke17ZwdGBToddI8pDm48kEpVg-ILAPna1wRh-xAJ9fRZw-zPPgdn4jUwVcJE1ZvWQUxwkmyExglNqGp0IvTJZUJFbgE-7XRK3dMEBRBhUpwEv36x-EUL2-BSQ5feDhwGCbXuJBFqZ-erYzVouT8yOb9TwqchglLQOCYTRn7ZGxI/image-asset.jpeg\" data-type=\"image\" src=\"https://images.squarespace-cdn.com/content/v1/590be7fd15d5dbc6bf3e22d0/1587491227056-AWVLA92JIGORGJLCMF8L/ke17ZwdGBToddI8pDm48kEpVg-ILAPna1wRh-xAJ9fRZw-zPPgdn4jUwVcJE1ZvWQUxwkmyExglNqGp0IvTJZUJFbgE-7XRK3dMEBRBhUpwEv36x-EUL2-BSQ5feDhwGCbXuJBFqZ-erYzVouT8yOb9TwqchglLQOCYTRn7ZGxI/image-asset.jpeg?format=300w\" style=\"opacity: 0; left: 0px; top: 0px; width: 114px; height: 114px; position: relative;\"/>\n",
       "</a>\n",
       "</div>\n",
       "</div>\n",
       "<div class=\"slide sqs-gallery-design-grid-slide\" data-animation-role=\"image\" data-type=\"image\" id=\"yui_3_17_2_1_1596821935845_219\">\n",
       "<div class=\"margin-wrapper\">\n",
       "<a class=\"image-slide-anchor js-gallery-lightbox-opener content-fill\" data-description=\"Carrot cake ice cream sammich with cream cheese semifreddo! Coming this week!\" data-lightbox-theme=\"dark\" data-title=\"\" href=\"https://images.squarespace-cdn.com/content/v1/590be7fd15d5dbc6bf3e22d0/1587315142733-7EBE9MSKV9A1YP4C99YK/ke17ZwdGBToddI8pDm48kEpVg-ILAPna1wRh-xAJ9fRZw-zPPgdn4jUwVcJE1ZvWQUxwkmyExglNqGp0IvTJZUJFbgE-7XRK3dMEBRBhUpwEv36x-EUL2-BSQ5feDhwGCbXuJBFqZ-erYzVouT8yOb9TwqchglLQOCYTRn7ZGxI/image-asset.jpeg\" role=\"button\" style=\"overflow: hidden;\">\n",
       "<span class=\"v6-visually-hidden\">View fullsize</span>\n",
       "<noscript><img alt=\"Carrot cake ice cream sammich with cream cheese semifreddo! Coming this week!\" src=\"https://images.squarespace-cdn.com/content/v1/590be7fd15d5dbc6bf3e22d0/1587315142733-7EBE9MSKV9A1YP4C99YK/ke17ZwdGBToddI8pDm48kEpVg-ILAPna1wRh-xAJ9fRZw-zPPgdn4jUwVcJE1ZvWQUxwkmyExglNqGp0IvTJZUJFbgE-7XRK3dMEBRBhUpwEv36x-EUL2-BSQ5feDhwGCbXuJBFqZ-erYzVouT8yOb9TwqchglLQOCYTRn7ZGxI/image-asset.jpeg\"/></noscript><img alt=\"Carrot cake ice cream sammich with cream cheese semifreddo! Coming this week!\" class=\"thumb-image loaded\" data-image=\"https://images.squarespace-cdn.com/content/v1/590be7fd15d5dbc6bf3e22d0/1587315142733-7EBE9MSKV9A1YP4C99YK/ke17ZwdGBToddI8pDm48kEpVg-ILAPna1wRh-xAJ9fRZw-zPPgdn4jUwVcJE1ZvWQUxwkmyExglNqGp0IvTJZUJFbgE-7XRK3dMEBRBhUpwEv36x-EUL2-BSQ5feDhwGCbXuJBFqZ-erYzVouT8yOb9TwqchglLQOCYTRn7ZGxI/image-asset.jpeg\" data-image-dimensions=\"640x640\" data-image-focal-point=\"0.5,0.5\" data-image-id=\"5e9c81c540e89b5510c4ed7c\" data-image-resolution=\"300w\" data-load=\"false\" data-parent-ratio=\"1.0\" data-src=\"https://images.squarespace-cdn.com/content/v1/590be7fd15d5dbc6bf3e22d0/1587315142733-7EBE9MSKV9A1YP4C99YK/ke17ZwdGBToddI8pDm48kEpVg-ILAPna1wRh-xAJ9fRZw-zPPgdn4jUwVcJE1ZvWQUxwkmyExglNqGp0IvTJZUJFbgE-7XRK3dMEBRBhUpwEv36x-EUL2-BSQ5feDhwGCbXuJBFqZ-erYzVouT8yOb9TwqchglLQOCYTRn7ZGxI/image-asset.jpeg\" data-type=\"image\" src=\"https://images.squarespace-cdn.com/content/v1/590be7fd15d5dbc6bf3e22d0/1587315142733-7EBE9MSKV9A1YP4C99YK/ke17ZwdGBToddI8pDm48kEpVg-ILAPna1wRh-xAJ9fRZw-zPPgdn4jUwVcJE1ZvWQUxwkmyExglNqGp0IvTJZUJFbgE-7XRK3dMEBRBhUpwEv36x-EUL2-BSQ5feDhwGCbXuJBFqZ-erYzVouT8yOb9TwqchglLQOCYTRn7ZGxI/image-asset.jpeg?format=300w\" style=\"opacity: 0; left: 0px; top: 0px; width: 114px; height: 114px; position: relative;\"/>\n",
       "</a>\n",
       "</div>\n",
       "</div>\n",
       "<div class=\"slide sqs-gallery-design-grid-slide\" data-animation-role=\"image\" data-type=\"image\" id=\"yui_3_17_2_1_1596821935845_220\">\n",
       "<div class=\"margin-wrapper\">\n",
       "<a class=\"image-slide-anchor js-gallery-lightbox-opener content-fill\" data-description=\"Won’t you join me on my funfetti doughnut island? @thedoughnutproject\" data-lightbox-theme=\"dark\" data-title=\"\" href=\"https://images.squarespace-cdn.com/content/v1/590be7fd15d5dbc6bf3e22d0/1587222204503-PP08R1AX4CHSJUXYYBD1/ke17ZwdGBToddI8pDm48kEpVg-ILAPna1wRh-xAJ9fRZw-zPPgdn4jUwVcJE1ZvWQUxwkmyExglNqGp0IvTJZUJFbgE-7XRK3dMEBRBhUpwEv36x-EUL2-BSQ5feDhwGCbXuJBFqZ-erYzVouT8yOb9TwqchglLQOCYTRn7ZGxI/image-asset.jpeg\" role=\"button\" style=\"overflow: hidden;\">\n",
       "<span class=\"v6-visually-hidden\">View fullsize</span>\n",
       "<noscript><img alt=\"Won’t you join me on my funfetti doughnut island? @thedoughnutproject\" src=\"https://images.squarespace-cdn.com/content/v1/590be7fd15d5dbc6bf3e22d0/1587222204503-PP08R1AX4CHSJUXYYBD1/ke17ZwdGBToddI8pDm48kEpVg-ILAPna1wRh-xAJ9fRZw-zPPgdn4jUwVcJE1ZvWQUxwkmyExglNqGp0IvTJZUJFbgE-7XRK3dMEBRBhUpwEv36x-EUL2-BSQ5feDhwGCbXuJBFqZ-erYzVouT8yOb9TwqchglLQOCYTRn7ZGxI/image-asset.jpeg\"/></noscript><img alt=\"Won’t you join me on my funfetti doughnut island? @thedoughnutproject\" class=\"thumb-image loaded\" data-image=\"https://images.squarespace-cdn.com/content/v1/590be7fd15d5dbc6bf3e22d0/1587222204503-PP08R1AX4CHSJUXYYBD1/ke17ZwdGBToddI8pDm48kEpVg-ILAPna1wRh-xAJ9fRZw-zPPgdn4jUwVcJE1ZvWQUxwkmyExglNqGp0IvTJZUJFbgE-7XRK3dMEBRBhUpwEv36x-EUL2-BSQ5feDhwGCbXuJBFqZ-erYzVouT8yOb9TwqchglLQOCYTRn7ZGxI/image-asset.jpeg\" data-image-dimensions=\"640x640\" data-image-focal-point=\"0.5,0.5\" data-image-id=\"5e9b16ba39c67f2063337422\" data-image-resolution=\"300w\" data-load=\"false\" data-parent-ratio=\"1.0\" data-src=\"https://images.squarespace-cdn.com/content/v1/590be7fd15d5dbc6bf3e22d0/1587222204503-PP08R1AX4CHSJUXYYBD1/ke17ZwdGBToddI8pDm48kEpVg-ILAPna1wRh-xAJ9fRZw-zPPgdn4jUwVcJE1ZvWQUxwkmyExglNqGp0IvTJZUJFbgE-7XRK3dMEBRBhUpwEv36x-EUL2-BSQ5feDhwGCbXuJBFqZ-erYzVouT8yOb9TwqchglLQOCYTRn7ZGxI/image-asset.jpeg\" data-type=\"image\" src=\"https://images.squarespace-cdn.com/content/v1/590be7fd15d5dbc6bf3e22d0/1587222204503-PP08R1AX4CHSJUXYYBD1/ke17ZwdGBToddI8pDm48kEpVg-ILAPna1wRh-xAJ9fRZw-zPPgdn4jUwVcJE1ZvWQUxwkmyExglNqGp0IvTJZUJFbgE-7XRK3dMEBRBhUpwEv36x-EUL2-BSQ5feDhwGCbXuJBFqZ-erYzVouT8yOb9TwqchglLQOCYTRn7ZGxI/image-asset.jpeg?format=300w\" style=\"opacity: 0; left: 0px; top: 0px; width: 114px; height: 114px; position: relative;\"/>\n",
       "</a>\n",
       "</div>\n",
       "</div>\n",
       "<div class=\"slide sqs-gallery-design-grid-slide\" data-animation-role=\"image\" data-type=\"image\" id=\"yui_3_17_2_1_1596821935845_221\">\n",
       "<div class=\"margin-wrapper\">\n",
       "<a class=\"image-slide-anchor js-gallery-lightbox-opener content-fill\" data-description=\"Fried chicken *in* waffles with maple whipped cream n’ spicy honey\" data-lightbox-theme=\"dark\" data-title=\"\" href=\"https://images.squarespace-cdn.com/content/v1/590be7fd15d5dbc6bf3e22d0/1587049834086-F1Z94CIH9EYSS1G22QLA/ke17ZwdGBToddI8pDm48kHDXysD9tReqOrYIZ7AKY4xZw-zPPgdn4jUwVcJE1ZvWQUxwkmyExglNqGp0IvTJZUJFbgE-7XRK3dMEBRBhUpx0lo2jmwX8c5D7WBf0w68N2fkBMSbacvnoWV-3ZwOm-E-qyUa-0m4gpl_CmhbIjcI/image-asset.jpeg\" role=\"button\" style=\"overflow: hidden;\">\n",
       "<span class=\"v6-visually-hidden\">View fullsize</span>\n",
       "<noscript><img alt=\"Fried chicken *in* waffles with maple whipped cream n’ spicy honey\" src=\"https://images.squarespace-cdn.com/content/v1/590be7fd15d5dbc6bf3e22d0/1587049834086-F1Z94CIH9EYSS1G22QLA/ke17ZwdGBToddI8pDm48kHDXysD9tReqOrYIZ7AKY4xZw-zPPgdn4jUwVcJE1ZvWQUxwkmyExglNqGp0IvTJZUJFbgE-7XRK3dMEBRBhUpx0lo2jmwX8c5D7WBf0w68N2fkBMSbacvnoWV-3ZwOm-E-qyUa-0m4gpl_CmhbIjcI/image-asset.jpeg\"/></noscript><img alt=\"Fried chicken *in* waffles with maple whipped cream n’ spicy honey\" class=\"thumb-image loaded\" data-image=\"https://images.squarespace-cdn.com/content/v1/590be7fd15d5dbc6bf3e22d0/1587049834086-F1Z94CIH9EYSS1G22QLA/ke17ZwdGBToddI8pDm48kHDXysD9tReqOrYIZ7AKY4xZw-zPPgdn4jUwVcJE1ZvWQUxwkmyExglNqGp0IvTJZUJFbgE-7XRK3dMEBRBhUpx0lo2jmwX8c5D7WBf0w68N2fkBMSbacvnoWV-3ZwOm-E-qyUa-0m4gpl_CmhbIjcI/image-asset.jpeg\" data-image-dimensions=\"640x617\" data-image-focal-point=\"0.5,0.5\" data-image-id=\"5e987569fef3283bb0b99b57\" data-image-resolution=\"300w\" data-load=\"false\" data-parent-ratio=\"1.0\" data-src=\"https://images.squarespace-cdn.com/content/v1/590be7fd15d5dbc6bf3e22d0/1587049834086-F1Z94CIH9EYSS1G22QLA/ke17ZwdGBToddI8pDm48kHDXysD9tReqOrYIZ7AKY4xZw-zPPgdn4jUwVcJE1ZvWQUxwkmyExglNqGp0IvTJZUJFbgE-7XRK3dMEBRBhUpx0lo2jmwX8c5D7WBf0w68N2fkBMSbacvnoWV-3ZwOm-E-qyUa-0m4gpl_CmhbIjcI/image-asset.jpeg\" data-type=\"image\" src=\"https://images.squarespace-cdn.com/content/v1/590be7fd15d5dbc6bf3e22d0/1587049834086-F1Z94CIH9EYSS1G22QLA/ke17ZwdGBToddI8pDm48kHDXysD9tReqOrYIZ7AKY4xZw-zPPgdn4jUwVcJE1ZvWQUxwkmyExglNqGp0IvTJZUJFbgE-7XRK3dMEBRBhUpx0lo2jmwX8c5D7WBf0w68N2fkBMSbacvnoWV-3ZwOm-E-qyUa-0m4gpl_CmhbIjcI/image-asset.jpeg?format=300w\" style=\"opacity: 0; left: -2.1248px; top: 0px; width: 118.25px; height: 114px; position: relative;\"/>\n",
       "</a>\n",
       "</div>\n",
       "</div>\n",
       "</div>\n",
       "</div>\n",
       "<style id=\"design-grid-css\" type=\"text/css\">\n",
       "#block-yui_3_17_2_1_1543872535949_17545 .sqs-gallery-block-grid .sqs-gallery-design-grid { margin-right: -0px; }\n",
       "#block-yui_3_17_2_1_1543872535949_17545 .sqs-gallery-block-grid .sqs-gallery-design-grid-slide .margin-wrapper { margin-right: 0px; margin-bottom: 0px; }\n",
       "</style>\n",
       "</div></div><div class=\"sqs-block socialaccountlinks-v2-block sqs-block-socialaccountlinks-v2\" data-block-type=\"54\" id=\"block-yui_3_17_2_72_1493952511322_7607\"><div class=\"sqs-block-content\">\n",
       "<div class=\"sqs-svg-icon--outer social-icon-alignment-center social-icons-color-white social-icons-size-extra-large social-icons-shape-rounded social-icons-style-border\">\n",
       "<nav class=\"sqs-svg-icon--list\">\n",
       "<a aria-label=\"Andrew Rea\" class=\"sqs-svg-icon--wrapper youtube\" href=\"https://www.youtube.com/channel/UCJHA_jMfCvEnv-3kRjTCQXw\" target=\"_blank\">\n",
       "<div>\n",
       "<svg class=\"sqs-svg-icon--social\" viewbox=\"0 0 64 64\">\n",
       "<use class=\"sqs-use--icon\" xlink:href=\"#youtube-icon\"></use>\n",
       "<use class=\"sqs-use--mask\" xlink:href=\"#youtube-mask\"></use>\n",
       "</svg>\n",
       "</div>\n",
       "</a><a aria-label=\"Katie McKinney\" class=\"sqs-svg-icon--wrapper facebook\" href=\"http://www.facebook.com/bingingwithbabish\" target=\"_blank\">\n",
       "<div>\n",
       "<svg class=\"sqs-svg-icon--social\" viewbox=\"0 0 64 64\">\n",
       "<use class=\"sqs-use--icon\" xlink:href=\"#facebook-icon\"></use>\n",
       "<use class=\"sqs-use--mask\" xlink:href=\"#facebook-mask\"></use>\n",
       "</svg>\n",
       "</div>\n",
       "</a><a aria-label=\"Binging With Babish\" class=\"sqs-svg-icon--wrapper instagram\" href=\"http://instagram.com/bingingwithbabish\" target=\"_blank\">\n",
       "<div>\n",
       "<svg class=\"sqs-svg-icon--social\" viewbox=\"0 0 64 64\">\n",
       "<use class=\"sqs-use--icon\" xlink:href=\"#instagram-icon\"></use>\n",
       "<use class=\"sqs-use--mask\" xlink:href=\"#instagram-mask\"></use>\n",
       "</svg>\n",
       "</div>\n",
       "</a><a aria-label=\"Binging With Babish\" class=\"sqs-svg-icon--wrapper twitter\" href=\"https://twitter.com/BingingWBabish\" target=\"_blank\">\n",
       "<div>\n",
       "<svg class=\"sqs-svg-icon--social\" viewbox=\"0 0 64 64\">\n",
       "<use class=\"sqs-use--icon\" xlink:href=\"#twitter-icon\"></use>\n",
       "<use class=\"sqs-use--mask\" xlink:href=\"#twitter-mask\"></use>\n",
       "</svg>\n",
       "</div>\n",
       "</a><a aria-label=\"Bedtime With Babish\" class=\"sqs-svg-icon--wrapper itunes\" href=\"https://itunes.apple.com/us/podcast/bedtime-with-babish/id1327655367?mt=2\" target=\"_blank\">\n",
       "<div>\n",
       "<svg class=\"sqs-svg-icon--social\" viewbox=\"0 0 64 64\">\n",
       "<use class=\"sqs-use--icon\" xlink:href=\"#itunes-icon\"></use>\n",
       "<use class=\"sqs-use--mask\" xlink:href=\"#itunes-mask\"></use>\n",
       "</svg>\n",
       "</div>\n",
       "</a><a aria-label=\"Bedtime with Babish\" class=\"sqs-svg-icon--wrapper soundcloud\" href=\"http://soundcloud.com/bedtimewithbabish\" target=\"_blank\">\n",
       "<div>\n",
       "<svg class=\"sqs-svg-icon--social\" viewbox=\"0 0 64 64\">\n",
       "<use class=\"sqs-use--icon\" xlink:href=\"#soundcloud-icon\"></use>\n",
       "<use class=\"sqs-use--mask\" xlink:href=\"#soundcloud-mask\"></use>\n",
       "</svg>\n",
       "</div>\n",
       "</a><a aria-label=\"Bedtime With Babish - Stitcher\" class=\"sqs-svg-icon--wrapper stitcher\" href=\"https://www.stitcher.com/podcast/bedtime-with-babish\" target=\"_blank\">\n",
       "<div>\n",
       "<svg class=\"sqs-svg-icon--social\" viewbox=\"0 0 64 64\">\n",
       "<use class=\"sqs-use--icon\" xlink:href=\"#stitcher-icon\"></use>\n",
       "<use class=\"sqs-use--mask\" xlink:href=\"#stitcher-mask\"></use>\n",
       "</svg>\n",
       "</div>\n",
       "</a>\n",
       "</nav>\n",
       "</div>\n",
       "</div></div><div class=\"sqs-block spacer-block sqs-block-spacer\" data-aspect-ratio=\"1.543859649122807\" data-block-type=\"21\" id=\"block-yui_3_17_2_6_1493965084196_6700\"><div class=\"sqs-block-content sqs-intrinsic\" id=\"yui_3_17_2_1_1596821935845_95\" style=\"padding-bottom: 1.54386%;\"> </div></div><div class=\"sqs-block html-block sqs-block-html\" data-block-type=\"2\" id=\"block-yui_3_17_2_9_1493963746462_6528\"><div class=\"sqs-block-content\"><p class=\"\" style=\"text-align:center;white-space:pre-wrap;\">© 2020 Binge Entertainment, LLC. All rights reserved.</p></div></div></div></div></div>\n",
       "</div>\n",
       "</footer>\n",
       "</div>\n",
       "</div>\n",
       "<script data-sqs-type=\"imageloader-bootstrapper\" type=\"text/javascript\">(function() {if(window.ImageLoader) { window.ImageLoader.bootstrap({}, document); }})();</script><script>Squarespace.afterBodyLoad(Y);</script><svg data-usage=\"social-icons-svg\" style=\"display:none\" version=\"1.1\" xmlns=\"http://www.w3.org/2000/svg\"><symbol id=\"youtube-icon\" viewbox=\"0 0 64 64\"><path d=\"M46.7,26c0,0-0.3-2.1-1.2-3c-1.1-1.2-2.4-1.2-3-1.3C38.3,21.4,32,21.4,32,21.4h0 c0,0-6.3,0-10.5,0.3c-0.6,0.1-1.9,0.1-3,1.3c-0.9,0.9-1.2,3-1.2,3S17,28.4,17,30.9v2.3c0,2.4,0.3,4.9,0.3,4.9s0.3,2.1,1.2,3 c1.1,1.2,2.6,1.2,3.3,1.3c2.4,0.2,10.2,0.3,10.2,0.3s6.3,0,10.5-0.3c0.6-0.1,1.9-0.1,3-1.3c0.9-0.9,1.2-3,1.2-3s0.3-2.4,0.3-4.9 v-2.3C47,28.4,46.7,26,46.7,26z M28.9,35.9l0-8.4l8.1,4.2L28.9,35.9z\"></path></symbol><symbol id=\"youtube-mask\" viewbox=\"0 0 64 64\"><path d=\"M0,0v64h64V0H0z M47,33.1c0,2.4-0.3,4.9-0.3,4.9s-0.3,2.1-1.2,3c-1.1,1.2-2.4,1.2-3,1.3 C38.3,42.5,32,42.6,32,42.6s-7.8-0.1-10.2-0.3c-0.7-0.1-2.2-0.1-3.3-1.3c-0.9-0.9-1.2-3-1.2-3S17,35.6,17,33.1v-2.3 c0-2.4,0.3-4.9,0.3-4.9s0.3-2.1,1.2-3c1.1-1.2,2.4-1.2,3-1.3c4.2-0.3,10.5-0.3,10.5-0.3h0c0,0,6.3,0,10.5,0.3c0.6,0.1,1.9,0.1,3,1.3 c0.9,0.9,1.2,3,1.2,3s0.3,2.4,0.3,4.9V33.1z M28.9,35.9l8.1-4.2l-8.1-4.2L28.9,35.9z\"></path></symbol><symbol id=\"facebook-icon\" viewbox=\"0 0 64 64\"><path d=\"M34.1,47V33.3h4.6l0.7-5.3h-5.3v-3.4c0-1.5,0.4-2.6,2.6-2.6l2.8,0v-4.8c-0.5-0.1-2.2-0.2-4.1-0.2 c-4.1,0-6.9,2.5-6.9,7V28H24v5.3h4.6V47H34.1z\"></path></symbol><symbol id=\"facebook-mask\" viewbox=\"0 0 64 64\"><path d=\"M0,0v64h64V0H0z M39.6,22l-2.8,0c-2.2,0-2.6,1.1-2.6,2.6V28h5.3l-0.7,5.3h-4.6V47h-5.5V33.3H24V28h4.6V24 c0-4.6,2.8-7,6.9-7c2,0,3.6,0.1,4.1,0.2V22z\"></path></symbol><symbol id=\"instagram-icon\" viewbox=\"0 0 64 64\"><path d=\"M46.91,25.816c-0.073-1.597-0.326-2.687-0.697-3.641c-0.383-0.986-0.896-1.823-1.73-2.657c-0.834-0.834-1.67-1.347-2.657-1.73c-0.954-0.371-2.045-0.624-3.641-0.697C36.585,17.017,36.074,17,32,17s-4.585,0.017-6.184,0.09c-1.597,0.073-2.687,0.326-3.641,0.697c-0.986,0.383-1.823,0.896-2.657,1.73c-0.834,0.834-1.347,1.67-1.73,2.657c-0.371,0.954-0.624,2.045-0.697,3.641C17.017,27.415,17,27.926,17,32c0,4.074,0.017,4.585,0.09,6.184c0.073,1.597,0.326,2.687,0.697,3.641c0.383,0.986,0.896,1.823,1.73,2.657c0.834,0.834,1.67,1.347,2.657,1.73c0.954,0.371,2.045,0.624,3.641,0.697C27.415,46.983,27.926,47,32,47s4.585-0.017,6.184-0.09c1.597-0.073,2.687-0.326,3.641-0.697c0.986-0.383,1.823-0.896,2.657-1.73c0.834-0.834,1.347-1.67,1.73-2.657c0.371-0.954,0.624-2.045,0.697-3.641C46.983,36.585,47,36.074,47,32S46.983,27.415,46.91,25.816z M44.21,38.061c-0.067,1.462-0.311,2.257-0.516,2.785c-0.272,0.7-0.597,1.2-1.122,1.725c-0.525,0.525-1.025,0.85-1.725,1.122c-0.529,0.205-1.323,0.45-2.785,0.516c-1.581,0.072-2.056,0.087-6.061,0.087s-4.48-0.015-6.061-0.087c-1.462-0.067-2.257-0.311-2.785-0.516c-0.7-0.272-1.2-0.597-1.725-1.122c-0.525-0.525-0.85-1.025-1.122-1.725c-0.205-0.529-0.45-1.323-0.516-2.785c-0.072-1.582-0.087-2.056-0.087-6.061s0.015-4.48,0.087-6.061c0.067-1.462,0.311-2.257,0.516-2.785c0.272-0.7,0.597-1.2,1.122-1.725c0.525-0.525,1.025-0.85,1.725-1.122c0.529-0.205,1.323-0.45,2.785-0.516c1.582-0.072,2.056-0.087,6.061-0.087s4.48,0.015,6.061,0.087c1.462,0.067,2.257,0.311,2.785,0.516c0.7,0.272,1.2,0.597,1.725,1.122c0.525,0.525,0.85,1.025,1.122,1.725c0.205,0.529,0.45,1.323,0.516,2.785c0.072,1.582,0.087,2.056,0.087,6.061S44.282,36.48,44.21,38.061z M32,24.297c-4.254,0-7.703,3.449-7.703,7.703c0,4.254,3.449,7.703,7.703,7.703c4.254,0,7.703-3.449,7.703-7.703C39.703,27.746,36.254,24.297,32,24.297z M32,37c-2.761,0-5-2.239-5-5c0-2.761,2.239-5,5-5s5,2.239,5,5C37,34.761,34.761,37,32,37z M40.007,22.193c-0.994,0-1.8,0.806-1.8,1.8c0,0.994,0.806,1.8,1.8,1.8c0.994,0,1.8-0.806,1.8-1.8C41.807,22.999,41.001,22.193,40.007,22.193z\"></path></symbol><symbol id=\"instagram-mask\" viewbox=\"0 0 64 64\"><path d=\"M43.693,23.153c-0.272-0.7-0.597-1.2-1.122-1.725c-0.525-0.525-1.025-0.85-1.725-1.122c-0.529-0.205-1.323-0.45-2.785-0.517c-1.582-0.072-2.056-0.087-6.061-0.087s-4.48,0.015-6.061,0.087c-1.462,0.067-2.257,0.311-2.785,0.517c-0.7,0.272-1.2,0.597-1.725,1.122c-0.525,0.525-0.85,1.025-1.122,1.725c-0.205,0.529-0.45,1.323-0.516,2.785c-0.072,1.582-0.087,2.056-0.087,6.061s0.015,4.48,0.087,6.061c0.067,1.462,0.311,2.257,0.516,2.785c0.272,0.7,0.597,1.2,1.122,1.725s1.025,0.85,1.725,1.122c0.529,0.205,1.323,0.45,2.785,0.516c1.581,0.072,2.056,0.087,6.061,0.087s4.48-0.015,6.061-0.087c1.462-0.067,2.257-0.311,2.785-0.516c0.7-0.272,1.2-0.597,1.725-1.122s0.85-1.025,1.122-1.725c0.205-0.529,0.45-1.323,0.516-2.785c0.072-1.582,0.087-2.056,0.087-6.061s-0.015-4.48-0.087-6.061C44.143,24.476,43.899,23.682,43.693,23.153z M32,39.703c-4.254,0-7.703-3.449-7.703-7.703s3.449-7.703,7.703-7.703s7.703,3.449,7.703,7.703S36.254,39.703,32,39.703z M40.007,25.793c-0.994,0-1.8-0.806-1.8-1.8c0-0.994,0.806-1.8,1.8-1.8c0.994,0,1.8,0.806,1.8,1.8C41.807,24.987,41.001,25.793,40.007,25.793z M0,0v64h64V0H0z M46.91,38.184c-0.073,1.597-0.326,2.687-0.697,3.641c-0.383,0.986-0.896,1.823-1.73,2.657c-0.834,0.834-1.67,1.347-2.657,1.73c-0.954,0.371-2.044,0.624-3.641,0.697C36.585,46.983,36.074,47,32,47s-4.585-0.017-6.184-0.09c-1.597-0.073-2.687-0.326-3.641-0.697c-0.986-0.383-1.823-0.896-2.657-1.73c-0.834-0.834-1.347-1.67-1.73-2.657c-0.371-0.954-0.624-2.044-0.697-3.641C17.017,36.585,17,36.074,17,32c0-4.074,0.017-4.585,0.09-6.185c0.073-1.597,0.326-2.687,0.697-3.641c0.383-0.986,0.896-1.823,1.73-2.657c0.834-0.834,1.67-1.347,2.657-1.73c0.954-0.371,2.045-0.624,3.641-0.697C27.415,17.017,27.926,17,32,17s4.585,0.017,6.184,0.09c1.597,0.073,2.687,0.326,3.641,0.697c0.986,0.383,1.823,0.896,2.657,1.73c0.834,0.834,1.347,1.67,1.73,2.657c0.371,0.954,0.624,2.044,0.697,3.641C46.983,27.415,47,27.926,47,32C47,36.074,46.983,36.585,46.91,38.184z M32,27c-2.761,0-5,2.239-5,5s2.239,5,5,5s5-2.239,5-5S34.761,27,32,27z\"></path></symbol><symbol id=\"twitter-icon\" viewbox=\"0 0 64 64\"><path d=\"M48,22.1c-1.2,0.5-2.4,0.9-3.8,1c1.4-0.8,2.4-2.1,2.9-3.6c-1.3,0.8-2.7,1.3-4.2,1.6 C41.7,19.8,40,19,38.2,19c-3.6,0-6.6,2.9-6.6,6.6c0,0.5,0.1,1,0.2,1.5c-5.5-0.3-10.3-2.9-13.5-6.9c-0.6,1-0.9,2.1-0.9,3.3 c0,2.3,1.2,4.3,2.9,5.5c-1.1,0-2.1-0.3-3-0.8c0,0,0,0.1,0,0.1c0,3.2,2.3,5.8,5.3,6.4c-0.6,0.1-1.1,0.2-1.7,0.2c-0.4,0-0.8,0-1.2-0.1 c0.8,2.6,3.3,4.5,6.1,4.6c-2.2,1.8-5.1,2.8-8.2,2.8c-0.5,0-1.1,0-1.6-0.1c2.9,1.9,6.4,2.9,10.1,2.9c12.1,0,18.7-10,18.7-18.7 c0-0.3,0-0.6,0-0.8C46,24.5,47.1,23.4,48,22.1z\"></path></symbol><symbol id=\"twitter-mask\" viewbox=\"0 0 64 64\"><path d=\"M0,0v64h64V0H0z M44.7,25.5c0,0.3,0,0.6,0,0.8C44.7,35,38.1,45,26.1,45c-3.7,0-7.2-1.1-10.1-2.9 c0.5,0.1,1,0.1,1.6,0.1c3.1,0,5.9-1,8.2-2.8c-2.9-0.1-5.3-2-6.1-4.6c0.4,0.1,0.8,0.1,1.2,0.1c0.6,0,1.2-0.1,1.7-0.2 c-3-0.6-5.3-3.3-5.3-6.4c0,0,0-0.1,0-0.1c0.9,0.5,1.9,0.8,3,0.8c-1.8-1.2-2.9-3.2-2.9-5.5c0-1.2,0.3-2.3,0.9-3.3 c3.2,4,8.1,6.6,13.5,6.9c-0.1-0.5-0.2-1-0.2-1.5c0-3.6,2.9-6.6,6.6-6.6c1.9,0,3.6,0.8,4.8,2.1c1.5-0.3,2.9-0.8,4.2-1.6 c-0.5,1.5-1.5,2.8-2.9,3.6c1.3-0.2,2.6-0.5,3.8-1C47.1,23.4,46,24.5,44.7,25.5z\"></path></symbol><symbol id=\"itunes-icon\" viewbox=\"0 0 64 64\"><path d=\"M41.784,28.836c0,3.5,0.002,7-0.002,10.499c0,0.767-0.105,1.519-0.446,2.217c-0.53,1.086-1.399,1.768-2.55,2.095c-0.642,0.183-1.297,0.288-1.965,0.318c-1.749,0.083-3.261-1.103-3.574-2.823c-0.26-1.419,0.419-2.984,1.91-3.715c0.595-0.294,1.23-0.458,1.871-0.596c0.695-0.15,1.393-0.282,2.084-0.441c0.504-0.116,0.84-0.424,0.939-0.948c0.023-0.116,0.033-0.236,0.033-0.355c0.002-3.336,0.002-6.67-0.002-10.005c0-0.114-0.019-0.23-0.047-0.34c-0.072-0.277-0.274-0.446-0.559-0.43c-0.294,0.017-0.584,0.064-0.873,0.122c-1.397,0.275-2.793,0.559-4.189,0.84c-1.425,0.286-2.851,0.576-4.278,0.864c-0.842,0.171-1.684,0.34-2.525,0.51c-0.03,0.006-0.059,0.016-0.088,0.023c-0.509,0.141-0.693,0.374-0.717,0.9c-0.003,0.08-0.002,0.16-0.002,0.241c-0.002,4.782,0,9.565-0.003,14.345c0,0.773-0.086,1.537-0.396,2.255c-0.512,1.18-1.416,1.914-2.636,2.269c-0.645,0.186-1.307,0.293-1.976,0.316c-1.762,0.066-3.225-1.105-3.527-2.838c-0.261-1.494,0.422-3.098,2.119-3.816c0.656-0.275,1.344-0.427,2.036-0.571c0.527-0.111,1.056-0.211,1.582-0.324c0.703-0.153,1.07-0.595,1.1-1.313c0.003-0.094,0.002-0.183,0.002-0.277c0-5.44,0-10.882,0.003-16.323c0-0.227,0.023-0.46,0.077-0.681c0.128-0.524,0.502-0.823,1.003-0.953c0.469-0.122,0.947-0.207,1.422-0.304c1.347-0.272,2.694-0.543,4.042-0.814c1.393-0.282,2.784-0.562,4.176-0.843c1.23-0.249,2.46-0.501,3.693-0.743c0.404-0.08,0.814-0.161,1.22-0.194c0.57-0.045,0.961,0.313,1.019,0.886c0.014,0.136,0.022,0.274,0.022,0.412C41.786,21.814,41.786,25.325,41.784,28.836L41.784,28.836z\"></path></symbol><symbol id=\"itunes-mask\" viewbox=\"0 0 64 64\"><path d=\"M0,0v64h64V0H0z M41.783,39.335c0,0.767-0.105,1.519-0.446,2.217c-0.53,1.086-1.399,1.768-2.55,2.095c-0.641,0.183-1.297,0.288-1.965,0.318c-1.749,0.083-3.261-1.103-3.574-2.823c-0.26-1.419,0.419-2.984,1.911-3.715c0.595-0.294,1.23-0.458,1.871-0.596c0.695-0.15,1.393-0.282,2.084-0.441c0.504-0.116,0.84-0.424,0.939-0.948c0.023-0.116,0.033-0.236,0.033-0.355c0.002-3.336,0.002-6.67-0.002-10.005c0-0.114-0.019-0.23-0.047-0.34c-0.072-0.277-0.274-0.446-0.559-0.43c-0.294,0.017-0.584,0.064-0.873,0.122c-1.397,0.275-2.793,0.559-4.189,0.84c-1.425,0.286-2.851,0.576-4.278,0.864c-0.842,0.171-1.684,0.34-2.525,0.51c-0.03,0.006-0.059,0.016-0.088,0.023c-0.509,0.141-0.693,0.374-0.717,0.9c-0.003,0.08-0.002,0.16-0.002,0.241c-0.002,4.782,0,9.565-0.003,14.345c0,0.773-0.086,1.536-0.396,2.255c-0.512,1.18-1.416,1.914-2.636,2.269c-0.645,0.186-1.307,0.293-1.976,0.316c-1.762,0.066-3.225-1.105-3.527-2.838c-0.261-1.494,0.422-3.098,2.119-3.816c0.656-0.275,1.344-0.427,2.036-0.571c0.527-0.111,1.056-0.211,1.582-0.324c0.703-0.153,1.07-0.595,1.1-1.313c0.003-0.094,0.002-0.183,0.002-0.277c0-5.44,0-10.882,0.003-16.323c0-0.227,0.023-0.46,0.077-0.681c0.128-0.524,0.502-0.823,1.003-0.953c0.469-0.122,0.947-0.207,1.422-0.304c1.347-0.272,2.694-0.543,4.042-0.814c1.393-0.282,2.784-0.562,4.176-0.843c1.23-0.249,2.46-0.501,3.693-0.743c0.404-0.08,0.814-0.161,1.22-0.194c0.57-0.045,0.961,0.313,1.019,0.886c0.014,0.136,0.022,0.274,0.022,0.411c0.003,3.513,0.003,7.024,0.002,10.535C41.784,32.336,41.786,35.836,41.783,39.335z\"></path></symbol><symbol id=\"soundcloud-icon\" viewbox=\"0 0 64 64\"><path d=\"M43.6,30c-0.6,0-1.2,0.1-1.7,0.3c-0.3-4-3.7-7.1-7.7-7.1c-1,0-2,0.2-2.8,0.5 C31.1,23.9,31,24,31,24.3v13.9c0,0.3,0.2,0.5,0.5,0.5c0,0,12.2,0,12.2,0c2.4,0,4.4-1.9,4.4-4.4C48,31.9,46,30,43.6,30z M27.2,25.1 c-0.7,0-1.2,0.5-1.2,1.1v11.3c0,0.7,0.6,1.2,1.2,1.2c0.7,0,1.2-0.6,1.2-1.2V26.2C28.4,25.6,27.8,25.1,27.2,25.1z M22.2,27.8 c-0.7,0-1.2,0.5-1.2,1.1v8.5c0,0.7,0.6,1.2,1.2,1.2s1.2-0.6,1.2-1.2V29C23.4,28.3,22.9,27.8,22.2,27.8z M17.2,30.2 c-0.7,0-1.2,0.5-1.2,1.1v4.9c0,0.7,0.6,1.2,1.2,1.2c0.7,0,1.2-0.6,1.2-1.2v-4.9C18.5,30.7,17.9,30.2,17.2,30.2z\"></path></symbol><symbol id=\"soundcloud-mask\" viewbox=\"0 0 64 64\"><path d=\"M0,0v64h64V0H0z M18.5,36.3c0,0.7-0.6,1.2-1.2,1.2c-0.7,0-1.2-0.6-1.2-1.2v-4.9c0-0.6,0.6-1.1,1.2-1.1 c0.7,0,1.2,0.5,1.2,1.1V36.3z M23.4,37.5c0,0.7-0.6,1.2-1.2,1.2S21,38.2,21,37.5V29c0-0.6,0.6-1.1,1.2-1.1s1.2,0.5,1.2,1.1V37.5z  M28.4,37.5c0,0.7-0.6,1.2-1.2,1.2c-0.7,0-1.2-0.6-1.2-1.2V26.2c0-0.6,0.6-1.1,1.2-1.1c0.7,0,1.2,0.5,1.2,1.1V37.5z M43.6,38.7 c0,0-12.1,0-12.2,0c-0.3,0-0.5-0.2-0.5-0.5V24.3c0-0.3,0.1-0.4,0.4-0.5c0.9-0.3,1.8-0.5,2.8-0.5c4,0,7.4,3.1,7.7,7.1 c0.5-0.2,1.1-0.3,1.7-0.3c2.4,0,4.4,2,4.4,4.4C48,36.8,46,38.7,43.6,38.7z\"></path></symbol><symbol id=\"stitcher-icon\" viewbox=\"0 0 64 64\"><path d=\"M17,38h3V26h-3V38z M22,38h3V26h-3V38z M27,38h10V26H27V38z M39,43h2V21h-2V43z M43,26v12h4V26H43z\"></path></symbol><symbol id=\"stitcher-mask\" viewbox=\"0 0 64 64\"><path d=\"M0,0v64h64V0H0z M20,38h-3V26h3V38z M25,38h-3V26h3V38z M37,38H27V26h10V38z M41,43h-2V21h2V43z M47,38h-4V26h4 V38z\"></path></symbol></svg>\n",
       "<script src=\"https://static1.squarespace.com/static/ta/590be7fd15d5dbc6bf3e22d0/7/scripts/site-bundle.js\" type=\"text/javascript\"></script>\n",
       "</body></html>"
      ]
     },
     "execution_count": 34,
     "metadata": {},
     "output_type": "execute_result"
    }
   ],
   "source": [
    "test_soup"
   ]
  },
  {
   "cell_type": "code",
   "execution_count": 44,
   "metadata": {},
   "outputs": [
    {
     "name": "stdout",
     "output_type": "stream",
     "text": [
      "Fire Flakes inspired by Avatar the Last Airbender\n"
     ]
    }
   ],
   "source": [
    "recipie_title_raw = recipie_url_raw_info_soup[0].find('div', class_='recipe-title').text\n",
    "recipie_title = recipie_title_raw.replace('\\n', '')\n",
    "print(recipie_title)"
   ]
  },
  {
   "cell_type": "code",
   "execution_count": 30,
   "metadata": {},
   "outputs": [
    {
     "data": {
      "text/plain": [
       "<div <article=\"\" class=\"recipe-col\" data-item-id=\"5f2980a1db1cff5297fb640b\" id=\"article-5f2980a1db1cff5297fb640b\">\n",
       "<div class=\"main-image-wrapper\">\n",
       "<a href=\"/recipes/avatar-fire-flakes\"><div class=\"main-image content-fill\" style=\"overflow: hidden;\"><img alt=\"Fire Flakes inspired by Avatar the Last Airbender\" class=\"\" data-image=\"https://static1.squarespace.com/static/590be7fd15d5dbc6bf3e22d0/590bef6f46c3c4d418c28dac/5f2980a1db1cff5297fb640b/1596569872619/Screen+Shot+2020-08-04+at+10.31.51+AM.png\" data-image-dimensions=\"2500x1403\" data-image-focal-point=\"0.5,0.5\" data-image-resolution=\"500w\" data-parent-ratio=\"1.2\" data-src=\"https://static1.squarespace.com/static/590be7fd15d5dbc6bf3e22d0/590bef6f46c3c4d418c28dac/5f2980a1db1cff5297fb640b/1596569872619/Screen+Shot+2020-08-04+at+10.31.51+AM.png\" src=\"https://static1.squarespace.com/static/590be7fd15d5dbc6bf3e22d0/590bef6f46c3c4d418c28dac/5f2980a1db1cff5297fb640b/1596569872619/Screen+Shot+2020-08-04+at+10.31.51+AM.png?format=500w\" style=\"font-size: 0px; left: -57.1896px; top: 0px; width: 356.379px; height: 200px; position: relative;\"/></div></a>\n",
       "</div>\n",
       "<div class=\"recipe-title-wrapper\">\n",
       "<div class=\"recipe-title\" data-content-field=\"title\">\n",
       "<a href=\"/recipes/avatar-fire-flakes\">Fire Flakes inspired by Avatar the Last Airbender</a>\n",
       "</div>\n",
       "<p class=\"date\">\n",
       "<time class=\"published\" datetime=\"2020-08-04\">August  4, 2020</time>\n",
       "</p>\n",
       "</div>\n",
       "</div>"
      ]
     },
     "execution_count": 30,
     "metadata": {},
     "output_type": "execute_result"
    }
   ],
   "source": [
    "recipie_url_raw_info_soup[0]"
   ]
  },
  {
   "cell_type": "code",
   "execution_count": null,
   "metadata": {},
   "outputs": [],
   "source": []
  }
 ],
 "metadata": {
  "kernelspec": {
   "display_name": "Python 3",
   "language": "python",
   "name": "python3"
  },
  "language_info": {
   "codemirror_mode": {
    "name": "ipython",
    "version": 3
   },
   "file_extension": ".py",
   "mimetype": "text/x-python",
   "name": "python",
   "nbconvert_exporter": "python",
   "pygments_lexer": "ipython3",
   "version": "3.7.6"
  }
 },
 "nbformat": 4,
 "nbformat_minor": 4
}
