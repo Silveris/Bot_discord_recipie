{
 "cells": [
  {
   "cell_type": "code",
   "execution_count": 1,
   "metadata": {},
   "outputs": [],
   "source": [
    "import requests\n",
    "from bs4 import BeautifulSoup\n",
    "from selenium import webdriver\n",
    "from selenium.webdriver.support.ui import WebDriverWait\n",
    "from selenium.webdriver.common.by import By\n",
    "from selenium.webdriver.support import expected_conditions as EC\n",
    "import dont_add"
   ]
  },
  {
   "cell_type": "code",
   "execution_count": 2,
   "metadata": {},
   "outputs": [],
   "source": [
    "base_url = 'https://basicswithbabish.co/episodes'"
   ]
  },
  {
   "cell_type": "code",
   "execution_count": 3,
   "metadata": {},
   "outputs": [],
   "source": [
    "# driver = webdriver.Chrome('chromedriver.exe')\n",
    "# driver.get(base_url)\n",
    "# soup = BeautifulSoup(driver.page_source, 'html.parser')\n",
    "# driver.quit()"
   ]
  },
  {
   "cell_type": "code",
   "execution_count": 32,
   "metadata": {},
   "outputs": [
    {
     "name": "stdout",
     "output_type": "stream",
     "text": [
      "LOAD MORE RESULTS button clicked\n",
      "LOAD MORE RESULTS button clicked\n",
      "LOAD MORE RESULTS button clicked\n",
      "LOAD MORE RESULTS button clicked\n",
      "LOAD MORE RESULTS button clicked\n",
      "LOAD MORE RESULTS button clicked\n",
      "LOAD MORE RESULTS button clicked\n"
     ]
    }
   ],
   "source": [
    "# scrapes urls from main page\n",
    "\n",
    "options = webdriver.ChromeOptions() \n",
    "options.add_argument(\"start-maximized\")\n",
    "options.add_experimental_option(\"excludeSwitches\", [\"enable-automation\"])\n",
    "options.add_experimental_option('useAutomationExtension', False)\n",
    "driver = webdriver.Chrome(options=options, executable_path=r'chromedriver.exe')\n",
    "\n",
    "driver.get(base_url)\n",
    "while True:\n",
    "    try:\n",
    "        driver.execute_script(\"return arguments[0].scrollIntoView(true);\", WebDriverWait(driver, 5).until(EC.visibility_of_element_located((By.XPATH, \"//div[@class='sqs-block-button-container--center']\"))))\n",
    "        WebDriverWait(driver, 20).until(EC.element_to_be_clickable((By.XPATH, \"//div[@class='sqs-block-button-container--center']\"))).click()\n",
    "        print(\"LOAD MORE RESULTS button clicked\")\n",
    "    except:\n",
    "        break\n",
    "        \n",
    "soup = BeautifulSoup(driver.page_source, 'html.parser')\n",
    "driver.quit()"
   ]
  },
  {
   "cell_type": "code",
   "execution_count": 42,
   "metadata": {},
   "outputs": [],
   "source": [
    "url_ends = soup.find('div', class_='summary-item-list-container').find_all('div', class_='summary-title')"
   ]
  },
  {
   "cell_type": "code",
   "execution_count": 45,
   "metadata": {},
   "outputs": [],
   "source": [
    "list_url_ends = []\n",
    "for a in url_ends:\n",
    "    list_url_ends.append(a.a['href'])"
   ]
  },
  {
   "cell_type": "code",
   "execution_count": 44,
   "metadata": {
    "scrolled": true
   },
   "outputs": [],
   "source": [
    "url_start = 'https://basicswithbabish.co'"
   ]
  },
  {
   "cell_type": "code",
   "execution_count": 47,
   "metadata": {},
   "outputs": [
    {
     "data": {
      "text/plain": [
       "'https://basicswithbabish.co/basicsepisodes/cheese-fondue'"
      ]
     },
     "execution_count": 47,
     "metadata": {},
     "output_type": "execute_result"
    }
   ],
   "source": [
    "url = url_start + list_url_ends[0]\n",
    "url"
   ]
  },
  {
   "cell_type": "code",
   "execution_count": 48,
   "metadata": {},
   "outputs": [],
   "source": [
    "driver = webdriver.Chrome('chromedriver.exe')\n",
    "driver.get(url)\n",
    "soup = BeautifulSoup(driver.page_source, 'html.parser')\n",
    "driver.quit()"
   ]
  },
  {
   "cell_type": "code",
   "execution_count": null,
   "metadata": {},
   "outputs": [],
   "source": [
    "#  recipe = {\n",
    "#         'Title' : recipe_title\n",
    "#         ,'Author' : 'Babish'\n",
    "#         ,'Url' : url\n",
    "#         ,'Description' : recipe_description\n",
    "#         ,'Ingredents' : ingredents\n",
    "#         ,'Steps' : steps\n",
    "#     }"
   ]
  },
  {
   "cell_type": "code",
   "execution_count": null,
   "metadata": {},
   "outputs": [],
   "source": []
  },
  {
   "cell_type": "code",
   "execution_count": null,
   "metadata": {},
   "outputs": [],
   "source": []
  },
  {
   "cell_type": "code",
   "execution_count": null,
   "metadata": {},
   "outputs": [],
   "source": []
  },
  {
   "cell_type": "code",
   "execution_count": null,
   "metadata": {},
   "outputs": [],
   "source": []
  },
  {
   "cell_type": "code",
   "execution_count": null,
   "metadata": {},
   "outputs": [],
   "source": []
  },
  {
   "cell_type": "code",
   "execution_count": null,
   "metadata": {},
   "outputs": [],
   "source": []
  },
  {
   "cell_type": "code",
   "execution_count": null,
   "metadata": {},
   "outputs": [],
   "source": []
  },
  {
   "cell_type": "code",
   "execution_count": 64,
   "metadata": {},
   "outputs": [],
   "source": [
    "ingredents_raw_soup = soup.find('article').find('div', class_='row').find_all('div', class_='col')[1]"
   ]
  },
  {
   "cell_type": "code",
   "execution_count": 65,
   "metadata": {},
   "outputs": [],
   "source": [
    "steps_raw_soup = soup.find('article').find('div', class_='row').find_all('div', class_='col')[2]"
   ]
  },
  {
   "cell_type": "code",
   "execution_count": 54,
   "metadata": {},
   "outputs": [],
   "source": [
    "recipe_description = soup.find('article').find('h2').text"
   ]
  },
  {
   "cell_type": "code",
   "execution_count": 52,
   "metadata": {},
   "outputs": [],
   "source": [
    "recipe_title = soup.find('article').find('h1').text"
   ]
  },
  {
   "cell_type": "code",
   "execution_count": 49,
   "metadata": {},
   "outputs": [
    {
     "data": {
      "text/plain": [
       "<article class=\"BlogItem hentry tag-basics-with-babish tag-babish tag-fondue tag-cheese tag-cheese-fondue author-emilija-saxe post-type-text has-tags\" data-item-id=\"5f186de50344b66e73cbc5d1\" id=\"post-5f186de50344b66e73cbc5d1\">\n",
       "<h1 class=\"BlogItem-title\" data-content-field=\"title\">CHEEESE FONDUE</h1>\n",
       "<div class=\"sqs-layout sqs-grid-12 columns-12\" data-layout-label=\"Post Body\" data-type=\"item\" data-updated-on=\"1595436525877\" id=\"item-5f186de50344b66e73cbc5d1\"><div class=\"row sqs-row\" id=\"yui_3_17_2_1_1596911390953_71\"><div class=\"col sqs-col-12 span-12\" id=\"yui_3_17_2_1_1596911390953_70\"><div class=\"sqs-block html-block sqs-block-html\" data-block-type=\"2\" id=\"block-5a7eb804a37c343cecf7\"><div class=\"sqs-block-content\"><h2 style=\"white-space:pre-wrap;\">This week on Basics, I'm showing you how to make cheese fondue!</h2></div></div><div class=\"sqs-block image-block sqs-block-image sqs-text-ready\" data-block-type=\"5\" id=\"block-2e81d5dd9551feefbdc0\"><div class=\"sqs-block-content\" id=\"yui_3_17_2_1_1596911390953_69\">\n",
       "<div class=\"image-block-outer-wrapper layout-caption-hidden design-layout-inline combination-animation-none individual-animation-none individual-text-animation-none\" data-test=\"image-block-inline-outer-wrapper\" id=\"yui_3_17_2_1_1596911390953_68\">\n",
       "<figure class=\"sqs-block-image-figure intrinsic\" id=\"yui_3_17_2_1_1596911390953_67\" style=\"max-width:2500.0px;\">\n",
       "<a class=\"sqs-block-image-link\" href=\"https://www.youtube.com/watch?feature=youtu.be&amp;v=_X-Mm8h1AHM\" id=\"yui_3_17_2_1_1596911390953_66\">\n",
       "<div class=\"image-block-wrapper has-aspect-ratio\" data-animation-role=\"image\" id=\"yui_3_17_2_1_1596911390953_65\" style=\"padding-bottom: 56.32%; overflow: hidden;\">\n",
       "<noscript><img alt=\"Screen Shot 2020-07-22 at 10.50.47 AM.png\" src=\"https://images.squarespace-cdn.com/content/v1/59d40133017db2fd8a60b3fe/1595437228582-7TXOIKUINP68OLMMB5UA/ke17ZwdGBToddI8pDm48kBnsafcbTaEy0qOizt2WQ9p7gQa3H78H3Y0txjaiv_0fDoOvxcdMmMKkDsyUqMSsMWxHk725yiiHCCLfrh8O1z4YTzHvnKhyp6Da-NYroOW3ZGjoBKy3azqku80C789l0hKSnD_p9gN_SPga0QCfUjWrQnhO0xA8lZ7BDb1h3OEMwxfqOlkhHMTRjErZ5TgWHQ/Screen+Shot+2020-07-22+at+10.50.47+AM.png\"/></noscript><img alt=\"Screen Shot 2020-07-22 at 10.50.47 AM.png\" class=\"thumb-image loaded\" data-image=\"https://images.squarespace-cdn.com/content/v1/59d40133017db2fd8a60b3fe/1595437228582-7TXOIKUINP68OLMMB5UA/ke17ZwdGBToddI8pDm48kBnsafcbTaEy0qOizt2WQ9p7gQa3H78H3Y0txjaiv_0fDoOvxcdMmMKkDsyUqMSsMWxHk725yiiHCCLfrh8O1z4YTzHvnKhyp6Da-NYroOW3ZGjoBKy3azqku80C789l0hKSnD_p9gN_SPga0QCfUjWrQnhO0xA8lZ7BDb1h3OEMwxfqOlkhHMTRjErZ5TgWHQ/Screen+Shot+2020-07-22+at+10.50.47+AM.png\" data-image-dimensions=\"2500x1408\" data-image-focal-point=\"0.5,0.5\" data-image-id=\"5f18706ac34fea1f23bfb88f\" data-image-resolution=\"1000w\" data-load=\"false\" data-src=\"https://images.squarespace-cdn.com/content/v1/59d40133017db2fd8a60b3fe/1595437228582-7TXOIKUINP68OLMMB5UA/ke17ZwdGBToddI8pDm48kBnsafcbTaEy0qOizt2WQ9p7gQa3H78H3Y0txjaiv_0fDoOvxcdMmMKkDsyUqMSsMWxHk725yiiHCCLfrh8O1z4YTzHvnKhyp6Da-NYroOW3ZGjoBKy3azqku80C789l0hKSnD_p9gN_SPga0QCfUjWrQnhO0xA8lZ7BDb1h3OEMwxfqOlkhHMTRjErZ5TgWHQ/Screen+Shot+2020-07-22+at+10.50.47+AM.png\" data-type=\"image\" src=\"https://images.squarespace-cdn.com/content/v1/59d40133017db2fd8a60b3fe/1595437228582-7TXOIKUINP68OLMMB5UA/ke17ZwdGBToddI8pDm48kBnsafcbTaEy0qOizt2WQ9p7gQa3H78H3Y0txjaiv_0fDoOvxcdMmMKkDsyUqMSsMWxHk725yiiHCCLfrh8O1z4YTzHvnKhyp6Da-NYroOW3ZGjoBKy3azqku80C789l0hKSnD_p9gN_SPga0QCfUjWrQnhO0xA8lZ7BDb1h3OEMwxfqOlkhHMTRjErZ5TgWHQ/Screen+Shot+2020-07-22+at+10.50.47+AM.png?format=1000w\" style=\"left: 0%; top: -0.048559%; width: 100%; height: 100.097%; position: absolute;\"/>\n",
       "</div>\n",
       "</a>\n",
       "</figure>\n",
       "</div>\n",
       "</div></div><div class=\"sqs-block html-block sqs-block-html\" data-block-type=\"2\" id=\"block-yui_3_17_2_1_1595436500631_78450\"><div class=\"sqs-block-content\"><h2 style=\"text-align:center;white-space:pre-wrap;\"><strong>Special Equipment List</strong></h2><p class=\"\" style=\"text-align:center;white-space:pre-wrap;\">Electric Fondue Pot</p><p class=\"\" style=\"text-align:center;white-space:pre-wrap;\">Realschule Fondue Pot</p></div></div><div class=\"sqs-block horizontalrule-block sqs-block-horizontalrule\" data-block-type=\"47\" id=\"block-d650ddbc1fc27a5257ea\"><div class=\"sqs-block-content\"><hr/></div></div><div class=\"row sqs-row\"><div class=\"col sqs-col-5 span-5\"><div class=\"sqs-block html-block sqs-block-html\" data-block-type=\"2\" id=\"block-dbe7d4522bc86450c464\"><div class=\"sqs-block-content\"><p class=\"\" style=\"white-space:pre-wrap;\">Ingredients</p><p class=\"\" style=\"white-space:pre-wrap;\"><strong>Basic Swiss Fondue Ingredients:</strong></p><ul data-rte-list=\"default\"><li><p class=\"\" style=\"white-space:pre-wrap;\">1 lb desired cheese, grated</p></li><li><p class=\"\" style=\"white-space:pre-wrap;\">1 Tbsp cornstarch</p></li><li><p class=\"\" style=\"white-space:pre-wrap;\">1 clove garlic</p></li><li><p class=\"\" style=\"white-space:pre-wrap;\">1 cup dry white wine</p></li><li><p class=\"\" style=\"white-space:pre-wrap;\">Nutmeg, grated (optional)</p></li><li><p class=\"\" style=\"white-space:pre-wrap;\">1 Tbsp kirsch (optional)</p></li></ul><p class=\"\" style=\"white-space:pre-wrap;\"><strong>Cheddar Fondue Ingredients:</strong></p><ul data-rte-list=\"default\"><li><p class=\"\" style=\"white-space:pre-wrap;\">1 lb yellow &amp; white cheddar, grated</p></li><li><p class=\"\" style=\"white-space:pre-wrap;\">1 Tbsp cornstarch</p></li><li><p class=\"\" style=\"white-space:pre-wrap;\">1 cup beer</p></li></ul><p class=\"\" style=\"white-space:pre-wrap;\"><strong>Fonduta Ingredients:</strong></p><ul data-rte-list=\"default\"><li><p class=\"\" style=\"white-space:pre-wrap;\">300 g fontina cheese, cubed </p></li><li><p class=\"\" style=\"white-space:pre-wrap;\">1 cup whole milk</p></li><li><p class=\"\" style=\"white-space:pre-wrap;\">4 egg yolks</p></li><li><p class=\"\" style=\"white-space:pre-wrap;\">100 g butter, melted</p></li></ul></div></div></div><div class=\"col sqs-col-7 span-7\"><div class=\"sqs-block html-block sqs-block-html\" data-block-type=\"2\" id=\"block-dcb92b2f827be6ce2d28\"><div class=\"sqs-block-content\"><h2 style=\"white-space:pre-wrap;\"><strong>Method</strong> </h2><p class=\"\" style=\"white-space:pre-wrap;\"><strong>Basic Swiss Fondue Method:</strong></p><ol data-rte-list=\"default\"><li><p class=\"\" style=\"white-space:pre-wrap;\">Start by grating 1lb of desired cheese on the large hole side of a grater. Add to a medium bowl and cover with 1 tablespoon of cornstarch. Toss together. </p></li><li><p class=\"\" style=\"white-space:pre-wrap;\">Bruise 1 clove of garlic by pressing down using the palm of your hand or flat side of a knife. Generously rub every inch of a fondue pot with the garlic. </p></li><li><p class=\"\" style=\"white-space:pre-wrap;\">Add 1 cup of dry white wine to the pot and bring to a simmer. Once simmering, lower the heat to low and slowly add in a handful of corn starch covered cheese at a time, mixing constantly. Make sure each handful has melted before adding the next handful of cheese. **If heated too aggressively, the sauce could break.. If this happens, whisk together 1 tablespoon of cornstarch with ¼ cup of wine. Add to the pot and whisk until the fats re-emulsify.</p></li><li><p class=\"\" style=\"white-space:pre-wrap;\">Optional: add in a grating of fresh nutmeg and/or 1 tablespoon of kirsch.</p></li><li><p class=\"\" style=\"white-space:pre-wrap;\">Once all the cheese is melted and the mixture is smooth, take it off the heat. If too thin, it will thicken once it cools. </p></li><li><p class=\"\" style=\"white-space:pre-wrap;\">Place on an electric fondue pot or over a flame. Serve with toasted chunky bread. </p></li></ol><p class=\"\" style=\"white-space:pre-wrap;\"><strong>Cheddar Fondue Method:</strong></p><ol data-rte-list=\"default\"><li><p class=\"\" style=\"white-space:pre-wrap;\">Start by grating 1lb of desired cheese (yellow and white cheddar, in this case) on the large hole side of a grater. Add to a medium bowl and cover with 1 tablespoon of cornstarch. Toss together. </p></li><li><p class=\"\" style=\"white-space:pre-wrap;\">Pour 1 cup of beer in a saucepan and bring to a simmer. Once simmering, add in the pound of cornstarch covered yellow &amp; white cheddar.</p></li><li><p class=\"\" style=\"white-space:pre-wrap;\">Whisk off heat until all the cheese has melted.</p></li><li><p class=\"\" style=\"white-space:pre-wrap;\">Place on an electric fondue pot or over a flame. Serve with german soft pretzels and sliced kielbasa. </p></li></ol><p class=\"\" style=\"white-space:pre-wrap;\"><strong>Fonduta Method:</strong></p><ol data-rte-list=\"default\"><li><p class=\"\" style=\"white-space:pre-wrap;\">Start by cutting 300 grams of fontina cheese into cubes. Add to a medium bowl then cover with 1 cup of whole milk. Cover and fridge until ready to use.</p></li><li><p class=\"\" style=\"white-space:pre-wrap;\">In a small bowl, separate 4 egg yolks from their whites.</p></li><li><p class=\"\" style=\"white-space:pre-wrap;\">Set a heatproof bowl over top of a saucepan with boiling water. Place 100 grams of butter into the bowl and melt completely. </p></li><li><p class=\"\" style=\"white-space:pre-wrap;\">Once the butter has melted, add in the bowl of milk and cheese then whisk constantly over very low heat until completely melted. The flame should be just high enough to create a bare simmer of the inch or so of water below the bowl. </p></li><li><p class=\"\" style=\"white-space:pre-wrap;\">Once the cheese has melted into the milk and butter, start adding the egg yolks in one at a time. Whisk constantly until completely incorporated. </p></li><li><p class=\"\" style=\"white-space:pre-wrap;\">After all the egg yolks have been added and mixed together, constantly whisk the mixture over a low flame for 10-15 minutes until the mixture is completely smooth and slightly thickened. If thin, it will thicken as it cools off heat. </p></li><li><p class=\"\" style=\"white-space:pre-wrap;\">Take off the boiling pot of water and let cool for about 5 minutes. After 5 minutes, pour into a warm serving bowl and serve with chunks of toasted ciabatta bread and vegetables.</p></li><li><p class=\"\" style=\"white-space:pre-wrap;\">This can be kept warm in an electric fondue pot to keep warm but do not place into a traditional fondue pot because the direct heat will curdle the eggs. If it needs to be warmed. </p></li></ol></div></div></div></div><div class=\"sqs-block spacer-block sqs-block-spacer sized vsize-1\" data-block-type=\"21\" id=\"block-43a889f3c26a6300d26d\"><div class=\"sqs-block-content\"> </div></div></div></div></div>\n",
       "<div class=\"Blog-meta BlogItem-meta\">\n",
       "<!--\n",
       "\n",
       "      Author\n",
       "\n",
       "      --><a class=\"Blog-meta-item Blog-meta-item--author\" href=\"/basicsepisodes?author=59a48a3637c581d378e3c825\">Emilija Saxe</a><!--\n",
       "\n",
       "      Date\n",
       "\n",
       "      --><time class=\"Blog-meta-item Blog-meta-item--date\" datetime=\"2020-07-23\">July 23, 2020</time><!--\n",
       "\n",
       "      Tags\n",
       "\n",
       "      --><span class=\"Blog-meta-item Blog-meta-item--tags\"><a class=\"Blog-meta-item-tag\" href=\"/basicsepisodes/tag/basics+with+babish\">basics with babish</a>, <a class=\"Blog-meta-item-tag\" href=\"/basicsepisodes/tag/babish\">babish</a>, <a class=\"Blog-meta-item-tag\" href=\"/basicsepisodes/tag/fondue\">fondue</a>, <a class=\"Blog-meta-item-tag\" href=\"/basicsepisodes/tag/cheese\">cheese</a>, <a class=\"Blog-meta-item-tag\" href=\"/basicsepisodes/tag/cheese+fondue\">cheese fondue</a></span>\n",
       "</div>\n",
       "<div class=\"BlogItem-share\">\n",
       "<div class=\"Share sqs-share-buttons\" data-item-identifier=\"5f186de50344b66e73cbc5d1\" data-item-path=\"basicsepisodes/cheese-fondue\">\n",
       "<div class=\"Share-buttons\">\n",
       "<!--\n",
       "\n",
       "      Facebook\n",
       "\n",
       "    --><a class=\"Share-buttons-item Share-buttons-item--social\" data-service=\"facebook\" href=\"https://www.facebook.com/sharer/sharer.php?u=https%3A%2F%2Fbasicswithbabish.co%2Fbasicsepisodes%2Fcheese-fondue\" target=\"_blank\">\n",
       "<svg class=\"Share-buttons-item-icon\" viewbox=\"0 0 64 64\">\n",
       "<use xlink:href=\"/universal/svg/social-accounts.svg#facebook-icon\"></use>\n",
       "</svg><span class=\"Share-buttons-item-label\">Facebook</span><span class=\"Share-buttons-item-count\">0</span>\n",
       "</a><!--\n",
       "\n",
       "      Twitter\n",
       "\n",
       "    --><a class=\"Share-buttons-item Share-buttons-item--social\" data-service=\"twitter\" href=\"https://twitter.com/intent/tweet?url=https%3A%2F%2Fbasicswithbabish.co%2Fbasicsepisodes%2Fcheese-fondue&amp;text=\" target=\"_blank\">\n",
       "<svg class=\"Share-buttons-item-icon\" viewbox=\"0 0 64 64\">\n",
       "<use xlink:href=\"/universal/svg/social-accounts.svg#twitter-icon\"></use>\n",
       "</svg><span class=\"Share-buttons-item-label\">Twitter</span>\n",
       "</a><!--\n",
       "\n",
       "      Simple Like\n",
       "\n",
       "    --><a class=\"Share-buttons-item Share-buttons-item--like\" data-item-identifier=\"5f186de50344b66e73cbc5d1\" data-like-count=\"1\" data-service=\"squarespace-like\" href=\"#\">\n",
       "<svg class=\"Share-buttons-item-icon\" viewbox=\"0 0 64 64\">\n",
       "<g class=\"svg-icon\">\n",
       "<path d=\"M39.9,37.8c-7.3,4.8-7.7,6.9-7.9,7.8c-0.2-0.9-0.6-3-7.9-7.8c-16-10.6,1.4-25.4,7.9-11.7C38.5,12.4,55.9,27.3,39.9,37.8z\"></path>\n",
       "</g>\n",
       "</svg><span class=\"Share-buttons-item-label\"><span class=\"Share-buttons-item-label-count\">0</span> Likes</span>\n",
       "</a>\n",
       "</div>\n",
       "</div>\n",
       "</div>\n",
       "<section class=\"BlogItem-comments\" id=\"comments-5f186de50344b66e73cbc5d1\">\n",
       "<div class=\"squarespace-comments\" data-comment-state=\"2\" data-item-id=\"5f186de50344b66e73cbc5d1\" data-public-comment-count=\"0\" id=\"comments-5f186de50344b66e73cbc5d1\"></div>\n",
       "</section>\n",
       "</article>"
      ]
     },
     "execution_count": 49,
     "metadata": {},
     "output_type": "execute_result"
    }
   ],
   "source": [
    "soup.find('article')"
   ]
  },
  {
   "cell_type": "code",
   "execution_count": null,
   "metadata": {},
   "outputs": [],
   "source": []
  },
  {
   "cell_type": "code",
   "execution_count": 24,
   "metadata": {},
   "outputs": [],
   "source": []
  },
  {
   "cell_type": "code",
   "execution_count": 26,
   "metadata": {},
   "outputs": [],
   "source": []
  },
  {
   "cell_type": "code",
   "execution_count": null,
   "metadata": {},
   "outputs": [],
   "source": []
  },
  {
   "cell_type": "code",
   "execution_count": 36,
   "metadata": {},
   "outputs": [],
   "source": []
  },
  {
   "cell_type": "code",
   "execution_count": 37,
   "metadata": {},
   "outputs": [],
   "source": []
  },
  {
   "cell_type": "code",
   "execution_count": null,
   "metadata": {},
   "outputs": [],
   "source": []
  },
  {
   "cell_type": "code",
   "execution_count": null,
   "metadata": {},
   "outputs": [],
   "source": []
  },
  {
   "cell_type": "code",
   "execution_count": null,
   "metadata": {},
   "outputs": [],
   "source": []
  },
  {
   "cell_type": "code",
   "execution_count": null,
   "metadata": {},
   "outputs": [],
   "source": []
  },
  {
   "cell_type": "code",
   "execution_count": null,
   "metadata": {},
   "outputs": [],
   "source": []
  },
  {
   "cell_type": "code",
   "execution_count": null,
   "metadata": {},
   "outputs": [],
   "source": []
  },
  {
   "cell_type": "code",
   "execution_count": null,
   "metadata": {},
   "outputs": [],
   "source": []
  },
  {
   "cell_type": "code",
   "execution_count": null,
   "metadata": {},
   "outputs": [],
   "source": []
  },
  {
   "cell_type": "code",
   "execution_count": null,
   "metadata": {},
   "outputs": [],
   "source": []
  },
  {
   "cell_type": "code",
   "execution_count": null,
   "metadata": {},
   "outputs": [],
   "source": []
  }
 ],
 "metadata": {
  "kernelspec": {
   "display_name": "Python 3",
   "language": "python",
   "name": "python3"
  },
  "language_info": {
   "codemirror_mode": {
    "name": "ipython",
    "version": 3
   },
   "file_extension": ".py",
   "mimetype": "text/x-python",
   "name": "python",
   "nbconvert_exporter": "python",
   "pygments_lexer": "ipython3",
   "version": "3.7.6"
  }
 },
 "nbformat": 4,
 "nbformat_minor": 4
}
