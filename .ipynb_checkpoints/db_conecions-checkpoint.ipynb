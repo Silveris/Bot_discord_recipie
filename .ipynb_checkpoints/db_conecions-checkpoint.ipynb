{
 "cells": [
  {
   "cell_type": "code",
   "execution_count": 2,
   "metadata": {},
   "outputs": [],
   "source": [
    "# import sqlalchemy as sqlalc\n",
    "# from sqlalchemy import create_engine\n",
    "# from sqlalchemy import MetaData\n",
    "# from sqlalchemy import Table\n",
    "from pymongo import MongoClient\n",
    "\n",
    "from dont_add import db_info"
   ]
  },
  {
   "cell_type": "code",
   "execution_count": 3,
   "metadata": {},
   "outputs": [],
   "source": [
    "# engine_path = db_info.sql_engine_pth\n",
    "# engine = create_engine(engine_path)\n",
    "# engine.connect()\n",
    "# metadata = MetaData(engine).reflect()\n",
    "# print(engine)"
   ]
  },
  {
   "cell_type": "code",
   "execution_count": 4,
   "metadata": {},
   "outputs": [],
   "source": [
    "client = MongoClient()"
   ]
  },
  {
   "cell_type": "code",
   "execution_count": 5,
   "metadata": {},
   "outputs": [],
   "source": [
    "mongo_db = client.recipes\n",
    "collection = mongo_db.recipes"
   ]
  },
  {
   "cell_type": "code",
   "execution_count": 6,
   "metadata": {},
   "outputs": [],
   "source": [
    "test_mongo_info = {\n",
    "    'name' : 'test1'\n",
    "    ,'works' : 'Hopefuly'\n",
    "}"
   ]
  },
  {
   "cell_type": "code",
   "execution_count": 7,
   "metadata": {},
   "outputs": [],
   "source": [
    "# entering data\n",
    "# collection.insert_one(test_mongo_info)"
   ]
  },
  {
   "cell_type": "code",
   "execution_count": 8,
   "metadata": {},
   "outputs": [],
   "source": [
    "# calling data\n",
    "# collection.find_one()"
   ]
  },
  {
   "cell_type": "code",
   "execution_count": 9,
   "metadata": {},
   "outputs": [
    {
     "data": {
      "text/plain": [
       "{'_id': ObjectId('5f2eddd7a27f8ae1667a9ae0'),\n",
       " 'Title': 'Fire Flakes inspired by Avatar the Last Airbender',\n",
       " 'Author': 'Babish',\n",
       " 'Url': 'https://www.bingingwithbabish.com/recipes/avatar-fire-flakes',\n",
       " 'Description': \"Sokka's appetite betrays him during his visit to the fire nation when a tempting-looking snack, dubbed 'flaming fire flakes', turn out to be spicy. Whaddaya know. This week, we're manifesting the firebenders' chips of choice using an innovative recipe from ChefSteps, a little creativity, and some tingly-spicy Sichuan peppercorns!\",\n",
       " 'Ingredents': ['100 g long grain white rice',\n",
       "  '400 g water',\n",
       "  '½ small cinnamon stick',\n",
       "  '½ star anise pod',\n",
       "  '1 tsp fennel seeds',\n",
       "  'Generous shake Sichuan peppercorns',\n",
       "  '1 tsp cayenne pepper',\n",
       "  '1 tsp sweet paprika'],\n",
       " 'Steps': ['1. Into a medium saucepan, combine 100 grams of long-grain white rice and 400 grams of water. Set over low heat.',\n",
       "  '2. During which, into a mortar and pestle goes ½ small cinnamon stick, ½ star anise pod, 1 teaspoon of fennel seeds, and a generous shake of Sichuan peppercorn.',\n",
       "  '3. Pestle all the ingredients together by hand into a finely ground powder. This can also be done in a blender if a mortar and pestle aren’t available.',\n",
       "  '4. Pass the spice powder through a fine-mesh sieve into a small bowl to catch any large remaining clumps.',\n",
       "  '5. To complement the spices, add in 1 teaspoon each of cayenne pepper and sweet paprika then whisk together.',\n",
       "  '6. At this point (after 15 minutes), the rice should be finished cooking and should have the texture of mush. Pour into a blender along with a couple of teaspoons of the seasoning mix. Blend together and give a taste to make sure it is spicy enough.',\n",
       "  '7. Using an offset spatula, smooth the mixture out into a 1” thick sheet on a Silpat.',\n",
       "  '8. Place each sheet of rice puree into a dehydrator, turn the temperature to 122°F and let it dehydrate for 2 hours.',\n",
       "  '9. Remove from the dehydrator and peel the rice puree spread off the Silpat (will still be gooey on the bottom) and flip the sheets gooey side up on top of the dehydrator racks. Break off the parts that are fully dehydrated.',\n",
       "  '10. Place everything else that has not dried out back into the dehydrator for another 30 minutes. After which the sheets should be rice cracker-like.',\n",
       "  '11. Break each sheet into separate pieces, half the size of where they will end up after frying because they will expand by 50%.',\n",
       "  '12. Place small batches into a 350°F oil for 5 seconds (all it should take for them to puff up and float to the top). Remove and drain on paper towels. Rinse and repeat with the rest.',\n",
       "  '13. After draining, place into a medium bowl seasoning to taste with more spice seasoning and/or kosher salt. Give that a toss and enjoy.']}"
      ]
     },
     "execution_count": 9,
     "metadata": {},
     "output_type": "execute_result"
    }
   ],
   "source": [
    "collection.find_one()"
   ]
  },
  {
   "cell_type": "code",
   "execution_count": 18,
   "metadata": {},
   "outputs": [],
   "source": [
    "collection.find_one({'Title' : 'Fire'})"
   ]
  },
  {
   "cell_type": "code",
   "execution_count": 9,
   "metadata": {},
   "outputs": [],
   "source": []
  },
  {
   "cell_type": "code",
   "execution_count": 10,
   "metadata": {},
   "outputs": [],
   "source": []
  },
  {
   "cell_type": "code",
   "execution_count": 11,
   "metadata": {},
   "outputs": [],
   "source": []
  },
  {
   "cell_type": "code",
   "execution_count": null,
   "metadata": {},
   "outputs": [],
   "source": []
  },
  {
   "cell_type": "code",
   "execution_count": null,
   "metadata": {},
   "outputs": [],
   "source": []
  },
  {
   "cell_type": "code",
   "execution_count": null,
   "metadata": {},
   "outputs": [],
   "source": []
  }
 ],
 "metadata": {
  "kernelspec": {
   "display_name": "Python 3",
   "language": "python",
   "name": "python3"
  },
  "language_info": {
   "codemirror_mode": {
    "name": "ipython",
    "version": 3
   },
   "file_extension": ".py",
   "mimetype": "text/x-python",
   "name": "python",
   "nbconvert_exporter": "python",
   "pygments_lexer": "ipython3",
   "version": "3.7.6"
  }
 },
 "nbformat": 4,
 "nbformat_minor": 4
}
